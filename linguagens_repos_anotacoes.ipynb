{
 "cells": [
  {
   "cell_type": "markdown",
   "metadata": {},
   "source": [
    "# Conhecendo a request"
   ]
  },
  {
   "cell_type": "markdown",
   "metadata": {},
   "source": [
    "## Primeira requisição"
   ]
  },
  {
   "cell_type": "code",
   "execution_count": 460,
   "metadata": {},
   "outputs": [],
   "source": [
    "import requests \n"
   ]
  },
  {
   "cell_type": "code",
   "execution_count": 461,
   "metadata": {},
   "outputs": [],
   "source": [
    "r = requests.get('https://api.github.com/events')\n"
   ]
  },
  {
   "cell_type": "code",
   "execution_count": 462,
   "metadata": {},
   "outputs": [
    {
     "data": {
      "text/plain": [
       "<Response [200]>"
      ]
     },
     "execution_count": 462,
     "metadata": {},
     "output_type": "execute_result"
    }
   ],
   "source": [
    "r"
   ]
  },
  {
   "cell_type": "markdown",
   "metadata": {},
   "source": [
    "## Explorando a biblioteca"
   ]
  },
  {
   "cell_type": "code",
   "execution_count": 463,
   "metadata": {},
   "outputs": [
    {
     "data": {
      "text/plain": [
       "200"
      ]
     },
     "execution_count": 463,
     "metadata": {},
     "output_type": "execute_result"
    }
   ],
   "source": [
    "r.status_code"
   ]
  },
  {
   "cell_type": "code",
   "execution_count": 464,
   "metadata": {},
   "outputs": [
    {
     "data": {
      "text/plain": [
       "'https://api.github.com/events'"
      ]
     },
     "execution_count": 464,
     "metadata": {},
     "output_type": "execute_result"
    }
   ],
   "source": [
    "r.url"
   ]
  },
  {
   "cell_type": "code",
   "execution_count": 465,
   "metadata": {},
   "outputs": [
    {
     "data": {
      "text/plain": [
       "'[{\"id\":\"42392817808\",\"type\":\"CreateEvent\",\"actor\":{\"id\":183375438,\"login\":\"PhuongHo03\",\"display_login\":\"PhuongHo03\",\"gravatar_id\":\"\",\"url\":\"https://api.github.com/users/PhuongHo03\",\"avatar_url\":\"https://avatars.githubusercontent.com/u/183375438?\"},\"repo\":{\"id\":865336794,\"name\":\"PhuongHo03/Clothing-Store\",\"url\":\"https://api.github.com/repos/PhuongHo03/Clothing-Store\"},\"payload\":{\"ref\":null,\"ref_type\":\"repository\",\"master_branch\":\"main\",\"description\":\"This is a web application that simulates an e-commerce clothing store.\",\"pusher_type\":\"user\"},\"public\":true,\"created_at\":\"2024-09-30T11:17:44Z\"},{\"id\":\"42392817757\",\"type\":\"PushEvent\",\"actor\":{\"id\":57493545,\"login\":\"robocdnjs\",\"display_login\":\"robocdnjs\",\"gravatar_id\":\"\",\"url\":\"https://api.github.com/users/robocdnjs\",\"avatar_url\":\"https://avatars.githubusercontent.com/u/57493545?\"},\"repo\":{\"id\":283608703,\"name\":\"cdnjs/logs\",\"url\":\"https://api.github.com/repos/cdnjs/logs\"},\"payload\":{\"repository_id\":283608703,\"push_id\":20478476702,\"size\":1,\"distinct_size\":1,\"ref\":\"refs/heads/prod\",\"head\":\"434f413124d545d46139744d3f2172aa0fd5b1f4\",\"before\":\"6879b8568392ab8ebe3c5dc170a94ebdd6a46cc2\",\"commits\":[{\"sha\":\"434f413124d545d46139744d3f2172aa0fd5b1f4\",\"author\":{\"email\":\"cdnjs-github@cloudflare.com\",\"name\":\"robocdnjs\"},\"message\":\"update survey-vue 1.12.2 (new-version)\",\"distinct\":true,\"url\":\"https://api.github.com/repos/cdnjs/logs/commits/434f413124d545d46139744d3f2172aa0fd5b1f4\"}]},\"public\":true,\"created_at\":\"2024-09-30T11:17:44Z\",\"org\":{\"id\":637362,\"login\":\"cdnjs\",\"gravatar_id\":\"\",\"url\":\"https://api.github.com/orgs/cdnjs\",\"avatar_url\":\"https://avatars.githubusercontent.com/u/637362?\"}},{\"id\":\"42392817746\",\"type\":\"PushEvent\",\"actor\":{\"id\":180548550,\"login\":\"darkdohot\",\"display_login\":\"darkdohot\",\"gravatar_id\":\"\",\"url\":\"https://api.github.com/users/darkdohot\",\"avatar_url\":\"https://avatars.githubusercontent.com/u/180548550?\"},\"repo\":{\"id\":852821720,\"name\":\"darkdohot/medias\",\"url\":\"https://api.github.com/repos/darkdohot/medias\"},\"payload\":{\"repository_id\":852821720,\"push_id\":20478476636,\"size\":1,\"distinct_size\":1,\"ref\":\"refs/heads/main\",\"head\":\"4df43d9c4a967fb3459e173f4ff6b93810a89634\",\"before\":\"bd2dc66e5115cae821a42303cfe27520e085a1d2\",\"commits\":[{\"sha\":\"4df43d9c4a967fb3459e173f4ff6b93810a89634\",\"author\":{\"email\":\"darkdohot@gmail.com\",\"name\":\"darkdohot\"},\"message\":\"Upload de mp4 via API\",\"distinct\":true,\"url\":\"https://api.github.com/repos/darkdohot/medias/commits/4df43d9c4a967fb3459e173f4ff6b93810a89634\"}]},\"public\":true,\"created_at\":\"2024-09-30T11:17:44Z\"},{\"id\":\"42392817735\",\"type\":\"PushEvent\",\"actor\":{\"id\":1004095,\"login\":\"vlofgren\",\"display_login\":\"vlofgren\",\"gravatar_id\":\"\",\"url\":\"https://api.github.com/users/vlofgren\",\"avatar_url\":\"https://avatars.githubusercontent.com/u/1004095?\"},\"repo\":{\"id\":637917832,\"name\":\"MarginaliaSearch/www.marginalia.nu\",\"url\":\"https://api.github.com/repos/MarginaliaSearch/www.marginalia.nu\"},\"payload\":{\"repository_id\":637917832,\"push_id\":20478476699,\"size\":1,\"distinct_size\":1,\"ref\":\"refs/heads/main\",\"head\":\"5be059269440f639142309b2bb6c14661a92d361\",\"before\":\"5c61b20564854dd6e7b32dfd2891502a6790fb43\",\"commits\":[{\"sha\":\"5be059269440f639142309b2bb6c14661a92d361\",\"author\":{\"email\":\"vlofgren@marginalia.nu\",\"name\":\"Viktor Lofgren\"},\"message\":\"Fix plot\",\"distinct\":true,\"url\":\"https://api.github.com/repos/MarginaliaSearch/www.marginalia.nu/commits/5be059269440f639142309b2bb6c14661a92d361\"}]},\"public\":true,\"created_at\":\"2024-09-30T11:17:44Z\",\"org\":{\"id\":128393642,\"login\":\"MarginaliaSearch\",\"gravatar_id\":\"\",\"url\":\"https://api.github.com/orgs/MarginaliaSearch\",\"avatar_url\":\"https://avatars.githubusercontent.com/u/128393642?\"}},{\"id\":\"42392817709\",\"type\":\"PushEvent\",\"actor\":{\"id\":176674252,\"login\":\"Ganesh-034\",\"display_login\":\"Ganesh-034\",\"gravatar_id\":\"\",\"url\":\"https://api.github.com/users/Ganesh-034\",\"avatar_url\":\"https://avatars.githubusercontent.com/u/176674252?\"},\"repo\":{\"id\":865319026,\"name\":\"Ganesh-034/spring3-mvc-maven-xml-hello-world-1\",\"url\":\"https://api.github.com/repos/Ganesh-034/spring3-mvc-maven-xml-hello-world-1\"},\"payload\":{\"repository_id\":865319026,\"push_id\":20478476643,\"size\":1,\"distinct_size\":1,\"ref\":\"refs/heads/master\",\"head\":\"8abffa4e456ba5b02485d0da9fd064eaa52b12f5\",\"before\":\"fd245ec18e1d712908821555cb7b3befe4c37479\",\"commits\":[{\"sha\":\"8abffa4e456ba5b02485d0da9fd064eaa52b12f5\",\"author\":{\"email\":\"Ganeshmerugu@outlook.com\",\"name\":\"Ganesh-034\"},\"message\":\"Update pom.xml\",\"distinct\":true,\"url\":\"https://api.github.com/repos/Ganesh-034/spring3-mvc-maven-xml-hello-world-1/commits/8abffa4e456ba5b02485d0da9fd064eaa52b12f5\"}]},\"public\":true,\"created_at\":\"2024-09-30T11:17:44Z\"},{\"id\":\"42392817710\",\"type\":\"PushEvent\",\"actor\":{\"id\":166895733,\"login\":\"swa-runner-app[bot]\",\"display_login\":\"swa-runner-app\",\"gravatar_id\":\"\",\"url\":\"https://api.github.com/users/swa-runner-app[bot]\",\"avatar_url\":\"https://avatars.githubusercontent.com/u/166895733?\"},\"repo\":{\"id\":865336763,\"name\":\"static-web-apps-testing-org/swa3a1d38b95daf4c2ba1094a4b702fbb0e\",\"url\":\"https://api.github.com/repos/static-web-apps-testing-org/swa3a1d38b95daf4c2ba1094a4b702fbb0e\"},\"payload\":{\"repository_id\":865336763,\"push_id\":20478476690,\"size\":1,\"distinct_size\":1,\"ref\":\"refs/heads/main\",\"head\":\"3dce9c9884e7c341a9af452e7fac831d5b6d7490\",\"before\":\"8dde00d1455ef0ee84c6e475ba3048943ee21b15\",\"commits\":[{\"sha\":\"3dce9c9884e7c341a9af452e7fac831d5b6d7490\",\"author\":{\"email\":\"166895733+swa-runner-app[bot]@users.noreply.github.com\",\"name\":\"swa-runner-app[bot]\"},\"message\":\"Writing file api/content.txt\",\"distinct\":true,\"url\":\"https://api.github.com/repos/static-web-apps-testing-org/swa3a1d38b95daf4c2ba1094a4b702fbb0e/commits/3dce9c9884e7c341a9af452e7fac831d5b6d7490\"}]},\"public\":true,\"created_at\":\"2024-09-30T11:17:44Z\",\"org\":{\"id\":96167003,\"login\":\"static-web-apps-testing-org\",\"gravatar_id\":\"\",\"url\":\"https://api.github.com/orgs/static-web-apps-testing-org\",\"avatar_url\":\"https://avatars.githubusercontent.com/u/96167003?\"}},{\"id\":\"42392817706\",\"type\":\"PushEvent\",\"actor\":{\"id\":119955274,\"login\":\"bezawitassaye\",\"display_login\":\"bezawitassaye\",\"gravatar_id\":\"\",\"url\":\"https://api.github.com/users/bezawitassaye\",\"avatar_url\":\"https://avatars.githubusercontent.com/u/119955274?\"},\"repo\":{\"id\":865013858,\"name\":\"bezawitassaye/bblogtrainreact\",\"url\":\"https://api.github.com/repos/bezawitassaye/bblogtrainreact\"},\"payload\":{\"repository_id\":865013858,\"push_id\":20478476666,\"size\":1,\"distinct_size\":1,\"ref\":\"refs/heads/main\",\"head\":\"82d2e80877dff13284d3fc42fda4aaa2fabd73c9\",\"before\":\"883bc4ec54562c37473ef80de94eb162010b0df0\",\"commits\":[{\"sha\":\"82d2e80877dff13284d3fc42fda4aaa2fabd73c9\",\"author\":{\"email\":\"beza1221love@gmail.com\",\"name\":\"bezawitassaye\"},\"message\":\"finish ui of authrpost and category post pages\",\"distinct\":true,\"url\":\"https://api.github.com/repos/bezawitassaye/bblogtrainreact/commits/82d2e80877dff13284d3fc42fda4aaa2fabd73c9\"}]},\"public\":true,\"created_at\":\"2024-09-30T11:17:44Z\"},{\"id\":\"42392817704\",\"type\":\"PushEvent\",\"actor\":{\"id\":41898282,\"login\":\"github-actions[bot]\",\"display_login\":\"github-actions\",\"gravatar_id\":\"\",\"url\":\"https://api.github.com/users/github-actions[bot]\",\"avatar_url\":\"https://avatars.githubusercontent.com/u/41898282?\"},\"repo\":{\"id\":254140647,\"name\":\"RajeevAtla/blog\",\"url\":\"https://api.github.com/repos/RajeevAtla/blog\"},\"payload\":{\"repository_id\":254140647,\"push_id\":20478476648,\"size\":1,\"distinct_size\":1,\"ref\":\"refs/heads/master\",\"head\":\"11f041c11051563ba559e5ad6ce2d53918d9bea8\",\"before\":\"3bbeb5fe16bba689a48913cbc6a503c521d6b018\",\"commits\":[{\"sha\":\"11f041c11051563ba559e5ad6ce2d53918d9bea8\",\"author\":{\"email\":\"github-actions@github.com\",\"name\":\"github-actions\"},\"message\":\"add resume files\",\"distinct\":true,\"url\":\"https://api.github.com/repos/RajeevAtla/blog/commits/11f041c11051563ba559e5ad6ce2d53918d9bea8\"}]},\"public\":true,\"created_at\":\"2024-09-30T11:17:44Z\"},{\"id\":\"42392817686\",\"type\":\"PushEvent\",\"actor\":{\"id\":139435291,\"login\":\"zziru95\",\"display_login\":\"zziru95\",\"gravatar_id\":\"\",\"url\":\"https://api.github.com/users/zziru95\",\"avatar_url\":\"https://avatars.githubusercontent.com/u/139435291?\"},\"repo\":{\"id\":832564785,\"name\":\"zziru95/codetree-TILs\",\"url\":\"https://api.github.com/repos/zziru95/codetree-TILs\"},\"payload\":{\"repository_id\":832564785,\"push_id\":20478476625,\"size\":1,\"distinct_size\":1,\"ref\":\"refs/heads/main\",\"head\":\"fba87a533920d0724983e4c2f41819a4dfdfde6b\",\"before\":\"2174dc8130ddf3d84e58bea94b5d666054da0235\",\"commits\":[{\"sha\":\"fba87a533920d0724983e4c2f41819a4dfdfde6b\",\"author\":{\"email\":\"139435291+zziru95@users.noreply.github.com\",\"name\":\"zziru95\"},\"message\":\"Add a record in CodeTree\",\"distinct\":true,\"url\":\"https://api.github.com/repos/zziru95/codetree-TILs/commits/fba87a533920d0724983e4c2f41819a4dfdfde6b\"}]},\"public\":true,\"created_at\":\"2024-09-30T11:17:44Z\"},{\"id\":\"42392817697\",\"type\":\"PushEvent\",\"actor\":{\"id\":41898282,\"login\":\"github-actions[bot]\",\"display_login\":\"github-actions\",\"gravatar_id\":\"\",\"url\":\"https://api.github.com/users/github-actions[bot]\",\"avatar_url\":\"https://avatars.githubusercontent.com/u/41898282?\"},\"repo\":{\"id\":294887328,\"name\":\"haliphax/haliphax\",\"url\":\"https://api.github.com/repos/haliphax/haliphax\"},\"payload\":{\"repository_id\":294887328,\"push_id\":20478476659,\"size\":1,\"distinct_size\":1,\"ref\":\"refs/heads/main\",\"head\":\"b572c75243726ebe28de8c4f7479845899f4e528\",\"before\":\"1e32e6829da3ffd11f008bd5cb1b56d092cd20de\",\"commits\":[{\"sha\":\"b572c75243726ebe28de8c4f7479845899f4e528\",\"author\":{\"email\":\"github-actions[bot]@users.noreply.github.com\",\"name\":\"github-actions[bot]\"},\"message\":\"chore: autopublish 2024-09-30T11:17:42Z\",\"distinct\":true,\"url\":\"https://api.github.com/repos/haliphax/haliphax/commits/b572c75243726ebe28de8c4f7479845899f4e528\"}]},\"public\":true,\"created_at\":\"2024-09-30T11:17:44Z\"},{\"id\":\"42392817688\",\"type\":\"PushEvent\",\"actor\":{\"id\":41898282,\"login\":\"github-actions[bot]\",\"display_login\":\"github-actions\",\"gravatar_id\":\"\",\"url\":\"https://api.github.com/users/github-actions[bot]\",\"avatar_url\":\"https://avatars.githubusercontent.com/u/41898282?\"},\"repo\":{\"id\":704785247,\"name\":\"GaelVM/DataDuck\",\"url\":\"https://api.github.com/repos/GaelVM/DataDuck\"},\"payload\":{\"repository_id\":704785247,\"push_id\":20478476671,\"size\":1,\"distinct_size\":1,\"ref\":\"refs/heads/data\",\"head\":\"4697240958ff2647d21f1f6d5f6be075690e2859\",\"before\":\"9b10841fe6b00fef5296d8d164051c44a83da657\",\"commits\":[{\"sha\":\"4697240958ff2647d21f1f6d5f6be075690e2859\",\"author\":{\"email\":\"github-actions[bot]@users.noreply.github.com\",\"name\":\"github-actions[bot]\"},\"message\":\"Data updated\",\"distinct\":true,\"url\":\"https://api.github.com/repos/GaelVM/DataDuck/commits/4697240958ff2647d21f1f6d5f6be075690e2859\"}]},\"public\":true,\"created_at\":\"2024-09-30T11:17:44Z\"},{\"id\":\"42392817699\",\"type\":\"PushEvent\",\"actor\":{\"id\":41898282,\"login\":\"github-actions[bot]\",\"display_login\":\"github-actions\",\"gravatar_id\":\"\",\"url\":\"https://api.github.com/users/github-actions[bot]\",\"avatar_url\":\"https://avatars.githubusercontent.com/u/41898282?\"},\"repo\":{\"id\":670971383,\"name\":\"jong1312/jong1312\",\"url\":\"https://api.github.com/repos/jong1312/jong1312\"},\"payload\":{\"repository_id\":670971383,\"push_id\":20478476665,\"size\":1,\"distinct_size\":1,\"ref\":\"refs/heads/main\",\"head\":\"6c628d264d14d0cbb8c7aa84ea85eb65f0ab6f6e\",\"before\":\"7806ff0856b2b635424a8bd96846b2590f29461a\",\"commits\":[{\"sha\":\"6c628d264d14d0cbb8c7aa84ea85eb65f0ab6f6e\",\"author\":{\"email\":\"udinbojong1312@gmail.com\",\"name\":\"jong1312\"},\"message\":\"a commit a day keeps your girlfriend away\",\"distinct\":true,\"url\":\"https://api.github.com/repos/jong1312/jong1312/commits/6c628d264d14d0cbb8c7aa84ea85eb65f0ab6f6e\"}]},\"public\":true,\"created_at\":\"2024-09-30T11:17:44Z\"},{\"id\":\"42392817684\",\"type\":\"PushEvent\",\"actor\":{\"id\":56984995,\"login\":\"Zy-zz\",\"display_login\":\"Zy-zz\",\"gravatar_id\":\"\",\"url\":\"https://api.github.com/users/Zy-zz\",\"avatar_url\":\"https://avatars.githubusercontent.com/u/56984995?\"},\"repo\":{\"id\":826083502,\"name\":\"jobright-ai/2025-Design-Internship\",\"url\":\"https://api.github.com/repos/jobright-ai/2025-Design-Internship\"},\"payload\":{\"repository_id\":826083502,\"push_id\":20478476623,\"size\":1,\"distinct_size\":1,\"ref\":\"refs/heads/master\",\"head\":\"f39f011efdf3f36475910e3240f2fc3420c48f23\",\"before\":\"9ccf0dde3e8008967617887d38f0fc8ec5a838a9\",\"commits\":[{\"sha\":\"f39f011efdf3f36475910e3240f2fc3420c48f23\",\"author\":{\"email\":\"56984995+Zy-zz@users.noreply.github.com\",\"name\":\"Zy\"},\"message\":\"Update README.md\",\"distinct\":true,\"url\":\"https://api.github.com/repos/jobright-ai/2025-Design-Internship/commits/f39f011efdf3f36475910e3240f2fc3420c48f23\"}]},\"public\":true,\"created_at\":\"2024-09-30T11:17:44Z\",\"org\":{\"id\":127114615,\"login\":\"jobright-ai\",\"gravatar_id\":\"\",\"url\":\"https://api.github.com/orgs/jobright-ai\",\"avatar_url\":\"https://avatars.githubusercontent.com/u/127114615?\"}},{\"id\":\"42392817661\",\"type\":\"PushEvent\",\"actor\":{\"id\":41898282,\"login\":\"github-actions[bot]\",\"display_login\":\"github-actions\",\"gravatar_id\":\"\",\"url\":\"https://api.github.com/users/github-actions[bot]\",\"avatar_url\":\"https://avatars.githubusercontent.com/u/41898282?\"},\"repo\":{\"id\":797911098,\"name\":\"Oxsmartcontract/lava-auto-query\",\"url\":\"https://api.github.com/repos/Oxsmartcontract/lava-auto-query\"},\"payload\":{\"repository_id\":797911098,\"push_id\":20478476617,\"size\":1,\"distinct_size\":1,\"ref\":\"refs/heads/master\",\"head\":\"59d1cea265e5218d4ace4b0546ecca2067a94701\",\"before\":\"087de9252cee84eb5dca0aec43b96996cf7f1a15\",\"commits\":[{\"sha\":\"59d1cea265e5218d4ace4b0546ecca2067a94701\",\"author\":{\"email\":\"hodor328@gmail.com\",\"name\":\"Oxsmartcontract\"},\"message\":\"🛠️ Fix Ethereum network\",\"distinct\":true,\"url\":\"https://api.github.com/repos/Oxsmartcontract/lava-auto-query/commits/59d1cea265e5218d4ace4b0546ecca2067a94701\"}]},\"public\":true,\"created_at\":\"2024-09-30T11:17:44Z\"},{\"id\":\"42392817679\",\"type\":\"PushEvent\",\"actor\":{\"id\":181727322,\"login\":\"gerardleon21\",\"display_login\":\"gerardleon21\",\"gravatar_id\":\"\",\"url\":\"https://api.github.com/users/gerardleon21\",\"avatar_url\":\"https://avatars.githubusercontent.com/u/181727322?\"},\"repo\":{\"id\":858124226,\"name\":\"gerardleon21/gerardleon21.github.io\",\"url\":\"https://api.github.com/repos/gerardleon21/gerardleon21.github.io\"},\"payload\":{\"repository_id\":858124226,\"push_id\":20478476640,\"size\":1,\"distinct_size\":1,\"ref\":\"refs/heads/main\",\"head\":\"09c2ab6cab3d30f5dc43477b8040fe7034edcbd0\",\"before\":\"4b1d668c43e5fd231dfe934a7b9b52a37b264379\",\"commits\":[{\"sha\":\"09c2ab6cab3d30f5dc43477b8040fe7034edcbd0\",\"author\":{\"email\":\"gleon4@iespompeufabra.cat\",\"name\":\"gerardleon21\"},\"message\":\"Create sketch1.js\",\"distinct\":true,\"url\":\"https://api.github.com/repos/gerardleon21/gerardleon21.github.io/commits/09c2ab6cab3d30f5dc43477b8040fe7034edcbd0\"}]},\"public\":true,\"created_at\":\"2024-09-30T11:17:44Z\"},{\"id\":\"42392817664\",\"type\":\"PushEvent\",\"actor\":{\"id\":146163145,\"login\":\"Kiruba1018\",\"display_login\":\"Kiruba1018\",\"gravatar_id\":\"\",\"url\":\"https://api.github.com/users/Kiruba1018\",\"avatar_url\":\"https://avatars.githubusercontent.com/u/146163145?\"},\"repo\":{\"id\":835858800,\"name\":\"Kiruba1018/Interview-Preparation-\",\"url\":\"https://api.github.com/repos/Kiruba1018/Interview-Preparation-\"},\"payload\":{\"repository_id\":835858800,\"push_id\":20478476602,\"size\":1,\"distinct_size\":1,\"ref\":\"refs/heads/main\",\"head\":\"cc0e68f67868cce1961f60bf9ce367c6ae3f1611\",\"before\":\"dd2c8810083d1377a2761908d1a7831f7c9e296d\",\"commits\":[{\"sha\":\"cc0e68f67868cce1961f60bf9ce367c6ae3f1611\",\"author\":{\"email\":\"146163145+Kiruba1018@users.noreply.github.com\",\"name\":\"Kirubagaran M\"},\"message\":\"Add files via upload\",\"distinct\":true,\"url\":\"https://api.github.com/repos/Kiruba1018/Interview-Preparation-/commits/cc0e68f67868cce1961f60bf9ce367c6ae3f1611\"}]},\"public\":true,\"created_at\":\"2024-09-30T11:17:44Z\"},{\"id\":\"42392817708\",\"type\":\"CreateEvent\",\"actor\":{\"id\":142995720,\"login\":\"luungocthien\",\"display_login\":\"luungocthien\",\"gravatar_id\":\"\",\"url\":\"https://api.github.com/users/luungocthien\",\"avatar_url\":\"https://avatars.githubusercontent.com/u/142995720?\"},\"repo\":{\"id\":865336431,\"name\":\"luungocthien/week7-be-pp\",\"url\":\"https://api.github.com/repos/luungocthien/week7-be-pp\"},\"payload\":{\"ref\":\"main\",\"ref_type\":\"branch\",\"master_branch\":\"main\",\"description\":null,\"pusher_type\":\"user\"},\"public\":true,\"created_at\":\"2024-09-30T11:17:44Z\"},{\"id\":\"42392817649\",\"type\":\"PushEvent\",\"actor\":{\"id\":62435040,\"login\":\"pavankumar752\",\"display_login\":\"pavankumar752\",\"gravatar_id\":\"\",\"url\":\"https://api.github.com/users/pavankumar752\",\"avatar_url\":\"https://avatars.githubusercontent.com/u/62435040?\"},\"repo\":{\"id\":860315347,\"name\":\"pavankumar752/academic\",\"url\":\"https://api.github.com/repos/pavankumar752/academic\"},\"payload\":{\"repository_id\":860315347,\"push_id\":20478476612,\"size\":1,\"distinct_size\":1,\"ref\":\"refs/heads/main\",\"head\":\"07d413fd4ecbc3783e5cb3030f54732244d65280\",\"before\":\"fb1cd9ae7a50dce0625141afcb0db36a5f1c76c3\",\"commits\":[{\"sha\":\"07d413fd4ecbc3783e5cb3030f54732244d65280\",\"author\":{\"email\":\"62435040+pavankumar752@users.noreply.github.com\",\"name\":\"pavankumar752\"},\"message\":\"Update gnb\",\"distinct\":true,\"url\":\"https://api.github.com/repos/pavankumar752/academic/commits/07d413fd4ecbc3783e5cb3030f54732244d65280\"}]},\"public\":true,\"created_at\":\"2024-09-30T11:17:44Z\"},{\"id\":\"42392817653\",\"type\":\"PushEvent\",\"actor\":{\"id\":41898282,\"login\":\"github-actions[bot]\",\"display_login\":\"github-actions\",\"gravatar_id\":\"\",\"url\":\"https://api.github.com/users/github-actions[bot]\",\"avatar_url\":\"https://avatars.githubusercontent.com/u/41898282?\"},\"repo\":{\"id\":843829656,\"name\":\"heytrgithub/degisiklik-yapan-sistem\",\"url\":\"https://api.github.com/repos/heytrgithub/degisiklik-yapan-sistem\"},\"payload\":{\"repository_id\":843829656,\"push_id\":20478476603,\"size\":1,\"distinct_size\":1,\"ref\":\"refs/heads/main\",\"head\":\"1eafce25d10ff3f7779583f84b71ef4fd481fce7\",\"before\":\"a6c9aef85fe3629485262273a1ec01c1c337b932\",\"commits\":[{\"sha\":\"1eafce25d10ff3f7779583f84b71ef4fd481fce7\",\"author\":{\"email\":\"heytrgithub@users.noreply.github.com\",\"name\":\"heytrgithub\"},\"message\":\"[➖] Güncelleme\",\"distinct\":true,\"url\":\"https://api.github.com/repos/heytrgithub/degisiklik-yapan-sistem/commits/1eafce25d10ff3f7779583f84b71ef4fd481fce7\"}]},\"public\":true,\"created_at\":\"2024-09-30T11:17:44Z\"},{\"id\":\"42392817647\",\"type\":\"PushEvent\",\"actor\":{\"id\":41898282,\"login\":\"github-actions[bot]\",\"display_login\":\"github-actions\",\"gravatar_id\":\"\",\"url\":\"https://api.github.com/users/github-actions[bot]\",\"avatar_url\":\"https://avatars.githubusercontent.com/u/41898282?\"},\"repo\":{\"id\":374218885,\"name\":\"Viriatto/Viriatto\",\"url\":\"https://api.github.com/repos/Viriatto/Viriatto\"},\"payload\":{\"repository_id\":374218885,\"push_id\":20478476599,\"size\":1,\"distinct_size\":1,\"ref\":\"refs/heads/main\",\"head\":\"126639b434d3c09e07a393a82d581129c2dd6f16\",\"before\":\"79cb16af082c0cef716f75246770836511beac66\",\"commits\":[{\"sha\":\"126639b434d3c09e07a393a82d581129c2dd6f16\",\"author\":{\"email\":\"41898282+github-actions[bot]@users.noreply.github.com\",\"name\":\"github-actions[bot]\"},\"message\":\"Update github-metrics.svg - [Skip GitHub Action]\",\"distinct\":true,\"url\":\"https://api.github.com/repos/Viriatto/Viriatto/commits/126639b434d3c09e07a393a82d581129c2dd6f16\"}]},\"public\":true,\"created_at\":\"2024-09-30T11:17:44Z\"},{\"id\":\"42392817624\",\"type\":\"PullRequestEvent\",\"actor\":{\"id\":37929162,\"login\":\"mergify[bot]\",\"display_login\":\"mergify\",\"gravatar_id\":\"\",\"url\":\"https://api.github.com/users/mergify[bot]\",\"avatar_url\":\"https://avatars.githubusercontent.com/u/37929162?\"},\"repo\":{\"id\":475516962,\"name\":\"CaoMeiYouRen/uni-vite2-template\",\"url\":\"https://api.github.com/repos/CaoMeiYouRen/uni-vite2-template\"},\"payload\":{\"action\":\"closed\",\"number\":549,\"pull_request\":{\"url\":\"https://api.github.com/repos/CaoMeiYouRen/uni-vite2-template/pulls/549\",\"id\":2098840290,\"node_id\":\"PR_kwDOHFfQIs59GcLi\",\"html_url\":\"https://github.com/CaoMeiYouRen/uni-vite2-template/pull/549\",\"diff_url\":\"https://github.com/CaoMeiYouRen/uni-vite2-template/pull/549.diff\",\"patch_url\":\"https://github.com/CaoMeiYouRen/uni-vite2-template/pull/549.patch\",\"issue_url\":\"https://api.github.com/repos/CaoMeiYouRen/uni-vite2-template/issues/549\",\"number\":549,\"state\":\"closed\",\"locked\":false,\"title\":\"Bump vue from 3.5.9 to 3.5.10\",\"user\":{\"login\":\"dependabot[bot]\",\"id\":49699333,\"node_id\":\"MDM6Qm90NDk2OTkzMzM=\",\"avatar_url\":\"https://avatars.githubusercontent.com/in/29110?v=4\",\"gravatar_id\":\"\",\"url\":\"https://api.github.com/users/dependabot%5Bbot%5D\",\"html_url\":\"https://github.com/apps/dependabot\",\"followers_url\":\"https://api.github.com/users/dependabot%5Bbot%5D/followers\",\"following_url\":\"https://api.github.com/users/dependabot%5Bbot%5D/following{/other_user}\",\"gists_url\":\"https://api.github.com/users/dependabot%5Bbot%5D/gists{/gist_id}\",\"starred_url\":\"https://api.github.com/users/dependabot%5Bbot%5D/starred{/owner}{/repo}\",\"subscriptions_url\":\"https://api.github.com/users/dependabot%5Bbot%5D/subscriptions\",\"organizations_url\":\"https://api.github.com/users/dependabot%5Bbot%5D/orgs\",\"repos_url\":\"https://api.github.com/users/dependabot%5Bbot%5D/repos\",\"events_url\":\"https://api.github.com/users/dependabot%5Bbot%5D/events{/privacy}\",\"received_events_url\":\"https://api.github.com/users/dependabot%5Bbot%5D/received_events\",\"type\":\"Bot\",\"site_admin\":false},\"body\":\"Bumps [vue](https://github.com/vuejs/core) from 3.5.9 to 3.5.10.\\\\n<details>\\\\n<summary>Release notes</summary>\\\\n<p><em>Sourced from <a href=\\\\\"https://github.com/vuejs/core/releases\\\\\">vue\\'s releases</a>.</em></p>\\\\n<blockquote>\\\\n<h2>v3.5.10</h2>\\\\n<p>For stable releases, please refer to <a href=\\\\\"https://github.com/vuejs/core/blob/main/CHANGELOG.md\\\\\">CHANGELOG.md</a> for details.\\\\nFor pre-releases, please refer to <a href=\\\\\"https://github.com/vuejs/core/blob/minor/CHANGELOG.md\\\\\">CHANGELOG.md</a> of the <code>minor</code> branch.</p>\\\\n</blockquote>\\\\n</details>\\\\n<details>\\\\n<summary>Changelog</summary>\\\\n<p><em>Sourced from <a href=\\\\\"https://github.com/vuejs/core/blob/main/CHANGELOG.md\\\\\">vue\\'s changelog</a>.</em></p>\\\\n<blockquote>\\\\n<h2><a href=\\\\\"https://github.com/vuejs/core/compare/v3.5.9...v3.5.10\\\\\">3.5.10</a> (2024-09-27)</h2>\\\\n<h3>Bug Fixes</h3>\\\\n<ul>\\\\n<li><strong>custom-element:</strong> properly set kebab-case props on Vue custom elements (<a href=\\\\\"https://github.com/vuejs/core/commit/ea3efa09e008918c1d9ba7226833a8b1a7a57244\\\\\">ea3efa0</a>), closes <a href=\\\\\"https://redirect.github.com/vuejs/core/issues/12030\\\\\">#12030</a> <a href=\\\\\"https://redirect.github.com/vuejs/core/issues/12032\\\\\">#12032</a></li>\\\\n<li><strong>reactivity:</strong> fix nested batch edge case (<a href=\\\\\"https://github.com/vuejs/core/commit/93c95dd4cd416503f43a98a1455f62658d22b0b2\\\\\">93c95dd</a>)</li>\\\\n<li><strong>reactivity:</strong> only clear notified flags for computed in first batch iteration (<a href=\\\\\"https://github.com/vuejs/core/commit/aa9ef2386a0cd39a174e5a887ec2b1a3525034fc\\\\\">aa9ef23</a>), closes <a href=\\\\\"https://redirect.github.com/vuejs/core/issues/12045\\\\\">#12045</a></li>\\\\n<li><strong>types/ref:</strong> handle nested refs in UnwrapRef (<a href=\\\\\"https://redirect.github.com/vuejs/core/issues/12049\\\\\">#12049</a>) (<a href=\\\\\"https://github.com/vuejs/core/commit/e2c19c20cfee9788519a80c0e53e216b78505994\\\\\">e2c19c2</a>), closes <a href=\\\\\"https://redirect.github.com/vuejs/core/issues/12044\\\\\">#12044</a></li>\\\\n</ul>\\\\n</blockquote>\\\\n</details>\\\\n<details>\\\\n<summary>Commits</summary>\\\\n<ul>\\\\n<li><a href=\\\\\"https://github.com/vuejs/core/commit/4b09ab2074e7bafed5ded653bc81b700726bd1fb\\\\\"><code>4b09ab2</code></a> release: v3.5.10</li>\\\\n<li><a href=\\\\\"https://github.com/vuejs/core/commit/93c95dd4cd416503f43a98a1455f62658d22b0b2\\\\\"><code>93c95dd</code></a> fix(reactivity): fix nested batch edge case</li>\\\\n<li><a href=\\\\\"https://github.com/vuejs/core/commit/aa9ef2386a0cd39a174e5a887ec2b1a3525034fc\\\\\"><code>aa9ef23</code></a> fix(reactivity): only clear notified flags for computed in first batch iteration</li>\\\\n<li><a href=\\\\\"https://github.com/vuejs/core/commit/60c2029f777e0db801c66fceee5c367c9d2e34a3\\\\\"><code>60c2029</code></a> test: add test case for <a href=\\\\\"https://redirect.github.com/vuejs/core/issues/11928\\\\\">#11928</a></li>\\\\n<li><a href=\\\\\"https://github.com/vuejs/core/commit/e2c19c20cfee9788519a80c0e53e216b78505994\\\\\"><code>e2c19c2</code></a> fix(types/ref): handle nested refs in UnwrapRef (<a href=\\\\\"https://redirect.github.com/vuejs/core/issues/12049\\\\\">#12049</a>)</li>\\\\n<li><a href=\\\\\"https://github.com/vuejs/core/commit/ea3efa09e008918c1d9ba7226833a8b1a7a57244\\\\\"><code>ea3efa0</code></a> fix(custom-element): properly set kebab-case props on Vue custom elements</li>\\\\n<li><a href=\\\\\"https://github.com/vuejs/core/commit/a77b95992a2058581e4724db75a5ad23a64b26cc\\\\\"><code>a77b959</code></a> workflow: link to release workflow in release script [ci skip]</li>\\\\n<li>See full diff in <a href=\\\\\"https://github.com/vuejs/core/compare/v3.5.9...v3.5.10\\\\\">compare view</a></li>\\\\n</ul>\\\\n</details>\\\\n<br />\\\\n\\\\n\\\\n[![Dependabot compatibility score](https://dependabot-badges.githubapp.com/badges/compatibility_score?dependency-name=vue&package-manager=npm_and_yarn&previous-version=3.5.9&new-version=3.5.10)](https://docs.github.com/en/github/managing-security-vulnerabilities/about-dependabot-security-updates#about-compatibility-scores)\\\\n\\\\nDependabot will resolve any conflicts with this PR as long as you don\\'t alter it yourself. You can also trigger a rebase manually by commenting `@dependabot rebase`.\\\\n\\\\n[//]: # (dependabot-automerge-start)\\\\n[//]: # (dependabot-automerge-end)\\\\n\\\\n---\\\\n\\\\n<details>\\\\n<summary>Dependabot commands and options</summary>\\\\n<br />\\\\n\\\\nYou can trigger Dependabot actions by commenting on this PR:\\\\n- `@dependabot rebase` will rebase this PR\\\\n- `@dependabot recreate` will recreate this PR, overwriting any edits that have been made to it\\\\n- `@dependabot merge` will merge this PR after your CI passes on it\\\\n- `@dependabot squash and merge` will squash and merge this PR after your CI passes on it\\\\n- `@dependabot cancel merge` will cancel a previously requested merge and block automerging\\\\n- `@dependabot reopen` will reopen this PR if it is closed\\\\n- `@dependabot close` will close this PR and stop Dependabot recreating it. You can achieve the same result by closing it manually\\\\n- `@dependabot show <dependency name> ignore conditions` will show all of the ignore conditions of the specified dependency\\\\n- `@dependabot ignore this major version` will close this PR and stop Dependabot creating any more for this major version (unless you reopen the PR or upgrade to it yourself)\\\\n- `@dependabot ignore this minor version` will close this PR and stop Dependabot creating any more for this minor version (unless you reopen the PR or upgrade to it yourself)\\\\n- `@dependabot ignore this dependency` will close this PR and stop Dependabot creating any more for this dependency (unless you reopen the PR or upgrade to it yourself)\\\\n\\\\n\\\\n</details>\",\"created_at\":\"2024-09-30T11:13:08Z\",\"updated_at\":\"2024-09-30T11:17:43Z\",\"closed_at\":\"2024-09-30T11:17:43Z\",\"merged_at\":\"2024-09-30T11:17:43Z\",\"merge_commit_sha\":\"151cee0f29802c0379df4f4291cc657259073175\",\"assignee\":null,\"assignees\":[],\"requested_reviewers\":[],\"requested_teams\":[],\"labels\":[{\"id\":3990140543,\"node_id\":\"LA_kwDOHFfQIs7t1LZ_\",\"url\":\"https://api.github.com/repos/CaoMeiYouRen/uni-vite2-template/labels/dependencies\",\"name\":\"dependencies\",\"color\":\"0366d6\",\"default\":false,\"description\":\"Pull requests that update a dependency file\"}],\"milestone\":null,\"draft\":false,\"commits_url\":\"https://api.github.com/repos/CaoMeiYouRen/uni-vite2-template/pulls/549/commits\",\"review_comments_url\":\"https://api.github.com/repos/CaoMeiYouRen/uni-vite2-template/pulls/549/comments\",\"review_comment_url\":\"https://api.github.com/repos/CaoMeiYouRen/uni-vite2-template/pulls/comments{/number}\",\"comments_url\":\"https://api.github.com/repos/CaoMeiYouRen/uni-vite2-template/issues/549/comments\",\"statuses_url\":\"https://api.github.com/repos/CaoMeiYouRen/uni-vite2-template/statuses/aa7c872b3877b2664342e2e569fb09baef7a638e\",\"head\":{\"label\":\"CaoMeiYouRen:dependabot/npm_and_yarn/vue-3.5.10\",\"ref\":\"dependabot/npm_and_yarn/vue-3.5.10\",\"sha\":\"aa7c872b3877b2664342e2e569fb09baef7a638e\",\"user\":{\"login\":\"CaoMeiYouRen\",\"id\":40430746,\"node_id\":\"MDQ6VXNlcjQwNDMwNzQ2\",\"avatar_url\":\"https://avatars.githubusercontent.com/u/40430746?v=4\",\"gravatar_id\":\"\",\"url\":\"https://api.github.com/users/CaoMeiYouRen\",\"html_url\":\"https://github.com/CaoMeiYouRen\",\"followers_url\":\"https://api.github.com/users/CaoMeiYouRen/followers\",\"following_url\":\"https://api.github.com/users/CaoMeiYouRen/following{/other_user}\",\"gists_url\":\"https://api.github.com/users/CaoMeiYouRen/gists{/gist_id}\",\"starred_url\":\"https://api.github.com/users/CaoMeiYouRen/starred{/owner}{/repo}\",\"subscriptions_url\":\"https://api.github.com/users/CaoMeiYouRen/subscriptions\",\"organizations_url\":\"https://api.github.com/users/CaoMeiYouRen/orgs\",\"repos_url\":\"https://api.github.com/users/CaoMeiYouRen/repos\",\"events_url\":\"https://api.github.com/users/CaoMeiYouRen/events{/privacy}\",\"received_events_url\":\"https://api.github.com/users/CaoMeiYouRen/received_events\",\"type\":\"User\",\"site_admin\":false},\"repo\":{\"id\":475516962,\"node_id\":\"R_kgDOHFfQIg\",\"name\":\"uni-vite2-template\",\"full_name\":\"CaoMeiYouRen/uni-vite2-template\",\"private\":false}},\"base\":{\"label\":\"CaoMeiYouRen:master\",\"ref\":\"master\",\"sha\":\"7db4f7ec16528e3006fbc06c261d09bf3b08843a\",\"user\":{\"login\":\"CaoMeiYouRen\",\"id\":40430746,\"node_id\":\"MDQ6VXNlcjQwNDMwNzQ2\",\"avatar_url\":\"https://avatars.githubusercontent.com/u/40430746?v=4\",\"gravatar_id\":\"\",\"url\":\"https://api.github.com/users/CaoMeiYouRen\",\"html_url\":\"https://github.com/CaoMeiYouRen\",\"followers_url\":\"https://api.github.com/users/CaoMeiYouRen/followers\",\"following_url\":\"https://api.github.com/users/CaoMeiYouRen/following{/other_user}\",\"gists_url\":\"https://api.github.com/users/CaoMeiYouRen/gists{/gist_id}\",\"starred_url\":\"https://api.github.com/users/CaoMeiYouRen/starred{/owner}{/repo}\",\"subscriptions_url\":\"https://api.github.com/users/CaoMeiYouRen/subscriptions\",\"organizations_url\":\"https://api.github.com/users/CaoMeiYouRen/orgs\",\"repos_url\":\"https://api.github.com/users/CaoMeiYouRen/repos\",\"events_url\":\"https://api.github.com/users/CaoMeiYouRen/events{/privacy}\",\"received_events_url\":\"https://api.github.com/users/CaoMeiYouRen/received_events\",\"type\":\"User\",\"site_admin\":false},\"repo\":{\"id\":475516962,\"node_id\":\"R_kgDOHFfQIg\",\"name\":\"uni-vite2-template\",\"full_name\":\"CaoMeiYouRen/uni-vite2-template\",\"private\":false}},\"_links\":{\"self\":{\"href\":\"https://api.github.com/repos/CaoMeiYouRen/uni-vite2-template/pulls/549\"},\"html\":{\"href\":\"https://github.com/CaoMeiYouRen/uni-vite2-template/pull/549\"},\"issue\":{\"href\":\"https://api.github.com/repos/CaoMeiYouRen/uni-vite2-template/issues/549\"},\"comments\":{\"href\":\"https://api.github.com/repos/CaoMeiYouRen/uni-vite2-template/issues/549/comments\"},\"review_comments\":{\"href\":\"https://api.github.com/repos/CaoMeiYouRen/uni-vite2-template/pulls/549/comments\"},\"review_comment\":{\"href\":\"https://api.github.com/repos/CaoMeiYouRen/uni-vite2-template/pulls/comments{/number}\"},\"commits\":{\"href\":\"https://api.github.com/repos/CaoMeiYouRen/uni-vite2-template/pulls/549/commits\"},\"statuses\":{\"href\":\"https://api.github.com/repos/CaoMeiYouRen/uni-vite2-template/statuses/aa7c872b3877b2664342e2e569fb09baef7a638e\"}},\"author_association\":\"CONTRIBUTOR\",\"auto_merge\":null,\"active_lock_reason\":null,\"merged\":true,\"mergeable\":null,\"rebaseable\":null,\"mergeable_state\":\"unknown\",\"merged_by\":{\"login\":\"mergify[bot]\",\"id\":37929162,\"node_id\":\"MDM6Qm90Mzc5MjkxNjI=\",\"avatar_url\":\"https://avatars.githubusercontent.com/in/10562?v=4\",\"gravatar_id\":\"\",\"url\":\"https://api.github.com/users/mergify%5Bbot%5D\",\"html_url\":\"https://github.com/apps/mergify\",\"followers_url\":\"https://api.github.com/users/mergify%5Bbot%5D/followers\",\"following_url\":\"https://api.github.com/users/mergify%5Bbot%5D/following{/other_user}\",\"gists_url\":\"https://api.github.com/users/mergify%5Bbot%5D/gists{/gist_id}\",\"starred_url\":\"https://api.github.com/users/mergify%5Bbot%5D/starred{/owner}{/repo}\",\"subscriptions_url\":\"https://api.github.com/users/mergify%5Bbot%5D/subscriptions\",\"organizations_url\":\"https://api.github.com/users/mergify%5Bbot%5D/orgs\",\"repos_url\":\"https://api.github.com/users/mergify%5Bbot%5D/repos\",\"events_url\":\"https://api.github.com/users/mergify%5Bbot%5D/events{/privacy}\",\"received_events_url\":\"https://api.github.com/users/mergify%5Bbot%5D/received_events\",\"type\":\"Bot\",\"site_admin\":false},\"comments\":0,\"review_comments\":0,\"maintainer_can_modify\":false,\"commits\":1,\"additions\":63,\"deletions\":63,\"changed_files\":2}},\"public\":true,\"created_at\":\"2024-09-30T11:17:44Z\"},{\"id\":\"42392817626\",\"type\":\"CreateEvent\",\"actor\":{\"id\":49699333,\"login\":\"dependabot[bot]\",\"display_login\":\"dependabot\",\"gravatar_id\":\"\",\"url\":\"https://api.github.com/users/dependabot[bot]\",\"avatar_url\":\"https://avatars.githubusercontent.com/u/49699333?\"},\"repo\":{\"id\":830944909,\"name\":\"Kiryuumaru/ManagedCICDRunner\",\"url\":\"https://api.github.com/repos/Kiryuumaru/ManagedCICDRunner\"},\"payload\":{\"ref\":\"dependabot/nuget/master/AbsolutePathHelpers-0.1.29\",\"ref_type\":\"branch\",\"master_branch\":\"master\",\"description\":null,\"pusher_type\":\"user\"},\"public\":true,\"created_at\":\"2024-09-30T11:17:44Z\"},{\"id\":\"42392817628\",\"type\":\"CreateEvent\",\"actor\":{\"id\":140708380,\"login\":\"KMS2001\",\"display_login\":\"KMS2001\",\"gravatar_id\":\"\",\"url\":\"https://api.github.com/users/KMS2001\",\"avatar_url\":\"https://avatars.githubusercontent.com/u/140708380?\"},\"repo\":{\"id\":861657244,\"name\":\"KMS2001/Python_Testing\",\"url\":\"https://api.github.com/repos/KMS2001/Python_Testing\"},\"payload\":{\"ref\":\"book/<competition>/<club>\",\"ref_type\":\"branch\",\"master_branch\":\"main\",\"description\":\"Flask Project\",\"pusher_type\":\"user\"},\"public\":true,\"created_at\":\"2024-09-30T11:17:44Z\"},{\"id\":\"42392817609\",\"type\":\"WatchEvent\",\"actor\":{\"id\":168398163,\"login\":\"shereefua\",\"display_login\":\"shereefua\",\"gravatar_id\":\"\",\"url\":\"https://api.github.com/users/shereefua\",\"avatar_url\":\"https://avatars.githubusercontent.com/u/168398163?\"},\"repo\":{\"id\":401118801,\"name\":\"hiteshchoudhary/golang\",\"url\":\"https://api.github.com/repos/hiteshchoudhary/golang\"},\"payload\":{\"action\":\"started\"},\"public\":true,\"created_at\":\"2024-09-30T11:17:44Z\"},{\"id\":\"42392817580\",\"type\":\"PullRequestEvent\",\"actor\":{\"id\":159010538,\"login\":\"RajaAkashk\",\"display_login\":\"RajaAkashk\",\"gravatar_id\":\"\",\"url\":\"https://api.github.com/users/RajaAkashk\",\"avatar_url\":\"https://avatars.githubusercontent.com/u/159010538?\"},\"repo\":{\"id\":808559779,\"name\":\"RajaAkashk/VA1.3_HW_2\",\"url\":\"https://api.github.com/repos/RajaAkashk/VA1.3_HW_2\"},\"payload\":{\"action\":\"opened\",\"number\":2,\"pull_request\":{\"url\":\"https://api.github.com/repos/RajaAkashk/VA1.3_HW_2/pulls/2\",\"id\":2098849914,\"node_id\":\"PR_kwDOMDGko859Geh6\",\"html_url\":\"https://github.com/RajaAkashk/VA1.3_HW_2/pull/2\",\"diff_url\":\"https://github.com/RajaAkashk/VA1.3_HW_2/pull/2.diff\",\"patch_url\":\"https://github.com/RajaAkashk/VA1.3_HW_2/pull/2.patch\",\"issue_url\":\"https://api.github.com/repos/RajaAkashk/VA1.3_HW_2/issues/2\",\"number\":2,\"state\":\"open\",\"locked\":false,\"title\":\"index\",\"user\":{\"login\":\"RajaAkashk\",\"id\":159010538,\"node_id\":\"U_kgDOCXpO6g\",\"avatar_url\":\"https://avatars.githubusercontent.com/u/159010538?v=4\",\"gravatar_id\":\"\",\"url\":\"https://api.github.com/users/RajaAkashk\",\"html_url\":\"https://github.com/RajaAkashk\",\"followers_url\":\"https://api.github.com/users/RajaAkashk/followers\",\"following_url\":\"https://api.github.com/users/RajaAkashk/following{/other_user}\",\"gists_url\":\"https://api.github.com/users/RajaAkashk/gists{/gist_id}\",\"starred_url\":\"https://api.github.com/users/RajaAkashk/starred{/owner}{/repo}\",\"subscriptions_url\":\"https://api.github.com/users/RajaAkashk/subscriptions\",\"organizations_url\":\"https://api.github.com/users/RajaAkashk/orgs\",\"repos_url\":\"https://api.github.com/users/RajaAkashk/repos\",\"events_url\":\"https://api.github.com/users/RajaAkashk/events{/privacy}\",\"received_events_url\":\"https://api.github.com/users/RajaAkashk/received_events\",\"type\":\"User\",\"site_admin\":false},\"body\":null,\"created_at\":\"2024-09-30T11:17:42Z\",\"updated_at\":\"2024-09-30T11:17:42Z\",\"closed_at\":null,\"merged_at\":null,\"merge_commit_sha\":null,\"assignee\":null,\"assignees\":[],\"requested_reviewers\":[],\"requested_teams\":[],\"labels\":[],\"milestone\":null,\"draft\":false,\"commits_url\":\"https://api.github.com/repos/RajaAkashk/VA1.3_HW_2/pulls/2/commits\",\"review_comments_url\":\"https://api.github.com/repos/RajaAkashk/VA1.3_HW_2/pulls/2/comments\",\"review_comment_url\":\"https://api.github.com/repos/RajaAkashk/VA1.3_HW_2/pulls/comments{/number}\",\"comments_url\":\"https://api.github.com/repos/RajaAkashk/VA1.3_HW_2/issues/2/comments\",\"statuses_url\":\"https://api.github.com/repos/RajaAkashk/VA1.3_HW_2/statuses/48dd9073532c7f8be59652d41cfd1f169caed448\",\"head\":{\"label\":\"RajaAkashk:RajaAkashk-patch-1\",\"ref\":\"RajaAkashk-patch-1\",\"sha\":\"48dd9073532c7f8be59652d41cfd1f169caed448\",\"user\":{\"login\":\"RajaAkashk\",\"id\":159010538,\"node_id\":\"U_kgDOCXpO6g\",\"avatar_url\":\"https://avatars.githubusercontent.com/u/159010538?v=4\",\"gravatar_id\":\"\",\"url\":\"https://api.github.com/users/RajaAkashk\",\"html_url\":\"https://github.com/RajaAkashk\",\"followers_url\":\"https://api.github.com/users/RajaAkashk/followers\",\"following_url\":\"https://api.github.com/users/RajaAkashk/following{/other_user}\",\"gists_url\":\"https://api.github.com/users/RajaAkashk/gists{/gist_id}\",\"starred_url\":\"https://api.github.com/users/RajaAkashk/starred{/owner}{/repo}\",\"subscriptions_url\":\"https://api.github.com/users/RajaAkashk/subscriptions\",\"organizations_url\":\"https://api.github.com/users/RajaAkashk/orgs\",\"repos_url\":\"https://api.github.com/users/RajaAkashk/repos\",\"events_url\":\"https://api.github.com/users/RajaAkashk/events{/privacy}\",\"received_events_url\":\"https://api.github.com/users/RajaAkashk/received_events\",\"type\":\"User\",\"site_admin\":false},\"repo\":{\"id\":808559779,\"node_id\":\"R_kgDOMDGkow\",\"name\":\"VA1.3_HW_2\",\"full_name\":\"RajaAkashk/VA1.3_HW_2\",\"private\":false}},\"base\":{\"label\":\"RajaAkashk:main\",\"ref\":\"main\",\"sha\":\"46b258d404c250fe040857c9a2a769eb8511a371\",\"user\":{\"login\":\"RajaAkashk\",\"id\":159010538,\"node_id\":\"U_kgDOCXpO6g\",\"avatar_url\":\"https://avatars.githubusercontent.com/u/159010538?v=4\",\"gravatar_id\":\"\",\"url\":\"https://api.github.com/users/RajaAkashk\",\"html_url\":\"https://github.com/RajaAkashk\",\"followers_url\":\"https://api.github.com/users/RajaAkashk/followers\",\"following_url\":\"https://api.github.com/users/RajaAkashk/following{/other_user}\",\"gists_url\":\"https://api.github.com/users/RajaAkashk/gists{/gist_id}\",\"starred_url\":\"https://api.github.com/users/RajaAkashk/starred{/owner}{/repo}\",\"subscriptions_url\":\"https://api.github.com/users/RajaAkashk/subscriptions\",\"organizations_url\":\"https://api.github.com/users/RajaAkashk/orgs\",\"repos_url\":\"https://api.github.com/users/RajaAkashk/repos\",\"events_url\":\"https://api.github.com/users/RajaAkashk/events{/privacy}\",\"received_events_url\":\"https://api.github.com/users/RajaAkashk/received_events\",\"type\":\"User\",\"site_admin\":false},\"repo\":{\"id\":808559779,\"node_id\":\"R_kgDOMDGkow\",\"name\":\"VA1.3_HW_2\",\"full_name\":\"RajaAkashk/VA1.3_HW_2\",\"private\":false}},\"_links\":{\"self\":{\"href\":\"https://api.github.com/repos/RajaAkashk/VA1.3_HW_2/pulls/2\"},\"html\":{\"href\":\"https://github.com/RajaAkashk/VA1.3_HW_2/pull/2\"},\"issue\":{\"href\":\"https://api.github.com/repos/RajaAkashk/VA1.3_HW_2/issues/2\"},\"comments\":{\"href\":\"https://api.github.com/repos/RajaAkashk/VA1.3_HW_2/issues/2/comments\"},\"review_comments\":{\"href\":\"https://api.github.com/repos/RajaAkashk/VA1.3_HW_2/pulls/2/comments\"},\"review_comment\":{\"href\":\"https://api.github.com/repos/RajaAkashk/VA1.3_HW_2/pulls/comments{/number}\"},\"commits\":{\"href\":\"https://api.github.com/repos/RajaAkashk/VA1.3_HW_2/pulls/2/commits\"},\"statuses\":{\"href\":\"https://api.github.com/repos/RajaAkashk/VA1.3_HW_2/statuses/48dd9073532c7f8be59652d41cfd1f169caed448\"}},\"author_association\":\"OWNER\",\"auto_merge\":null,\"active_lock_reason\":null,\"merged\":false,\"mergeable\":null,\"rebaseable\":null,\"mergeable_state\":\"unknown\",\"merged_by\":null,\"comments\":0,\"review_comments\":0,\"maintainer_can_modify\":false,\"commits\":1,\"additions\":76,\"deletions\":0,\"changed_files\":1}},\"public\":true,\"created_at\":\"2024-09-30T11:17:44Z\"},{\"id\":\"42392817559\",\"type\":\"PushEvent\",\"actor\":{\"id\":183088487,\"login\":\"instofle\",\"display_login\":\"instofle\",\"gravatar_id\":\"\",\"url\":\"https://api.github.com/users/instofle\",\"avatar_url\":\"https://avatars.githubusercontent.com/u/183088487?\"},\"repo\":{\"id\":864057379,\"name\":\"instofle/image_dataset\",\"url\":\"https://api.github.com/repos/instofle/image_dataset\"},\"payload\":{\"repository_id\":864057379,\"push_id\":20478476574,\"size\":1,\"distinct_size\":1,\"ref\":\"refs/heads/main\",\"head\":\"fb96a0124b720123199ecb03965f353eb87310dc\",\"before\":\"86b6c39a3019f810e1f93bee4a3b406920a72744\",\"commits\":[{\"sha\":\"fb96a0124b720123199ecb03965f353eb87310dc\",\"author\":{\"email\":\"eckhardtmarvin9@gmail.com\",\"name\":\"instofle\"},\"message\":\"Uploading a-beautifully-crafted-wooden-spiral-staircase-5tztejj3w1-629x944.webp to the root folder\",\"distinct\":true,\"url\":\"https://api.github.com/repos/instofle/image_dataset/commits/fb96a0124b720123199ecb03965f353eb87310dc\"}]},\"public\":true,\"created_at\":\"2024-09-30T11:17:43Z\"},{\"id\":\"42392817558\",\"type\":\"PullRequestEvent\",\"actor\":{\"id\":417981,\"login\":\"cpcloud\",\"display_login\":\"cpcloud\",\"gravatar_id\":\"\",\"url\":\"https://api.github.com/users/cpcloud\",\"avatar_url\":\"https://avatars.githubusercontent.com/u/417981?\"},\"repo\":{\"id\":34139230,\"name\":\"ibis-project/ibis\",\"url\":\"https://api.github.com/repos/ibis-project/ibis\"},\"payload\":{\"action\":\"closed\",\"number\":8517,\"pull_request\":{\"url\":\"https://api.github.com/repos/ibis-project/ibis/pulls/8517\",\"id\":1752412599,\"node_id\":\"PR_kwDOAgjsXs5oc7G3\",\"html_url\":\"https://github.com/ibis-project/ibis/pull/8517\",\"diff_url\":\"https://github.com/ibis-project/ibis/pull/8517.diff\",\"patch_url\":\"https://github.com/ibis-project/ibis/pull/8517.patch\",\"issue_url\":\"https://api.github.com/repos/ibis-project/ibis/issues/8517\",\"number\":8517,\"state\":\"closed\",\"locked\":false,\"title\":\"feat(api): time travel query\",\"user\":{\"login\":\"mfatihaktas\",\"id\":3505416,\"node_id\":\"MDQ6VXNlcjM1MDU0MTY=\",\"avatar_url\":\"https://avatars.githubusercontent.com/u/3505416?v=4\",\"gravatar_id\":\"\",\"url\":\"https://api.github.com/users/mfatihaktas\",\"html_url\":\"https://github.com/mfatihaktas\",\"followers_url\":\"https://api.github.com/users/mfatihaktas/followers\",\"following_url\":\"https://api.github.com/users/mfatihaktas/following{/other_user}\",\"gists_url\":\"https://api.github.com/users/mfatihaktas/gists{/gist_id}\",\"starred_url\":\"https://api.github.com/users/mfatihaktas/starred{/owner}{/repo}\",\"subscriptions_url\":\"https://api.github.com/users/mfatihaktas/subscriptions\",\"organizations_url\":\"https://api.github.com/users/mfatihaktas/orgs\",\"repos_url\":\"https://api.github.com/users/mfatihaktas/repos\",\"events_url\":\"https://api.github.com/users/mfatihaktas/events{/privacy}\",\"received_events_url\":\"https://api.github.com/users/mfatihaktas/received_events\",\"type\":\"User\",\"site_admin\":false},\"body\":\"## Description of changes\\\\r\\\\n\\\\r\\\\nAims to address https://github.com/ibis-project/ibis/issues/8203.\\\\r\\\\n\\\\r\\\\nThis PR\\\\r\\\\n- Adds `time_travel()` for `Table`.\\\\r\\\\n- Adds `ibis.expr.types.temporal.TimeTravelTable` and `ops.TimeTravelDatabaseTable`.\\\\r\\\\n- Adds `visit_TimeTravelDatabaseTable()` in the compiler for BigQuery and Flink, and `time_travel_table_sql()` in the SQL generator for Flink.\\\\r\\\\n- Adds tests for time travel in BigQuery and Flink backends.\\\\r\\\\n\\\\r\\\\nNotes:\\\\r\\\\n- Could not add a functional test for BigQuery as I do not have access to a GCP env to run the functional tests.\\\\r\\\\n- Will add more unit and functional tests.\\\\r\\\\n  - Especially, for timestamp expressions and timestamps with time zones.\\\\r\\\\n\\\\r\\\\n\\\\r\\\\n## Issues closed\\\\r\\\\n\\\\r\\\\n<!--\\\\r\\\\nPlease add Resolves #<issue number> (no angle brackets) if this pull request\\\\r\\\\nresolves any outstanding issues.\\\\r\\\\n\\\\r\\\\nFor example, if your pull requests resolves issues 1000, 2000 and 3000 write:\\\\r\\\\n\\\\r\\\\n* Resolves #1000\\\\r\\\\n* Resolves #2000\\\\r\\\\n* Resolves #3000\\\\r\\\\n\\\\r\\\\nIf your pull request doesn\\'t resolve any issues, you can delete this section\\\\r\\\\nentirely, including the `## Issues closed` section header.\\\\r\\\\n-->\\\\r\\\\n\",\"created_at\":\"2024-03-01T21:17:20Z\",\"updated_at\":\"2024-09-30T11:17:43Z\",\"closed_at\":\"2024-09-30T11:17:42Z\",\"merged_at\":null,\"merge_commit_sha\":\"bf96e23f8500d5c6670a08ed14ae2332cfd806ff\",\"assignee\":{\"login\":\"mfatihaktas\",\"id\":3505416,\"node_id\":\"MDQ6VXNlcjM1MDU0MTY=\",\"avatar_url\":\"https://avatars.githubusercontent.com/u/3505416?v=4\",\"gravatar_id\":\"\",\"url\":\"https://api.github.com/users/mfatihaktas\",\"html_url\":\"https://github.com/mfatihaktas\",\"followers_url\":\"https://api.github.com/users/mfatihaktas/followers\",\"following_url\":\"https://api.github.com/users/mfatihaktas/following{/other_user}\",\"gists_url\":\"https://api.github.com/users/mfatihaktas/gists{/gist_id}\",\"starred_url\":\"https://api.github.com/users/mfatihaktas/starred{/owner}{/repo}\",\"subscriptions_url\":\"https://api.github.com/users/mfatihaktas/subscriptions\",\"organizations_url\":\"https://api.github.com/users/mfatihaktas/orgs\",\"repos_url\":\"https://api.github.com/users/mfatihaktas/repos\",\"events_url\":\"https://api.github.com/users/mfatihaktas/events{/privacy}\",\"received_events_url\":\"https://api.github.com/users/mfatihaktas/received_events\",\"type\":\"User\",\"site_admin\":false},\"assignees\":[{\"login\":\"mfatihaktas\",\"id\":3505416,\"node_id\":\"MDQ6VXNlcjM1MDU0MTY=\",\"avatar_url\":\"https://avatars.githubusercontent.com/u/3505416?v=4\",\"gravatar_id\":\"\",\"url\":\"https://api.github.com/users/mfatihaktas\",\"html_url\":\"https://github.com/mfatihaktas\",\"followers_url\":\"https://api.github.com/users/mfatihaktas/followers\",\"following_url\":\"https://api.github.com/users/mfatihaktas/following{/other_user}\",\"gists_url\":\"https://api.github.com/users/mfatihaktas/gists{/gist_id}\",\"starred_url\":\"https://api.github.com/users/mfatihaktas/starred{/owner}{/repo}\",\"subscriptions_url\":\"https://api.github.com/users/mfatihaktas/subscriptions\",\"organizations_url\":\"https://api.github.com/users/mfatihaktas/orgs\",\"repos_url\":\"https://api.github.com/users/mfatihaktas/repos\",\"events_url\":\"https://api.github.com/users/mfatihaktas/events{/privacy}\",\"received_events_url\":\"https://api.github.com/users/mfatihaktas/received_events\",\"type\":\"User\",\"site_admin\":false}],\"requested_reviewers\":[],\"requested_teams\":[],\"labels\":[{\"id\":2177388471,\"node_id\":\"MDU6TGFiZWwyMTc3Mzg4NDcx\",\"url\":\"https://api.github.com/repos/ibis-project/ibis/labels/backends\",\"name\":\"backends\",\"color\":\"fef2c0\",\"default\":false,\"description\":\"Issues related to all backends\"}],\"milestone\":null,\"draft\":false,\"commits_url\":\"https://api.github.com/repos/ibis-project/ibis/pulls/8517/commits\",\"review_comments_url\":\"https://api.github.com/repos/ibis-project/ibis/pulls/8517/comments\",\"review_comment_url\":\"https://api.github.com/repos/ibis-project/ibis/pulls/comments{/number}\",\"comments_url\":\"https://api.github.com/repos/ibis-project/ibis/issues/8517/comments\",\"statuses_url\":\"https://api.github.com/repos/ibis-project/ibis/statuses/31ec7f20b18856a6493171ae1ea776ec7b049847\",\"head\":{\"label\":\"mfatihaktas:feat/support-time-travel-query\",\"ref\":\"feat/support-time-travel-query\",\"sha\":\"31ec7f20b18856a6493171ae1ea776ec7b049847\",\"user\":{\"login\":\"mfatihaktas\",\"id\":3505416,\"node_id\":\"MDQ6VXNlcjM1MDU0MTY=\",\"avatar_url\":\"https://avatars.githubusercontent.com/u/3505416?v=4\",\"gravatar_id\":\"\",\"url\":\"https://api.github.com/users/mfatihaktas\",\"html_url\":\"https://github.com/mfatihaktas\",\"followers_url\":\"https://api.github.com/users/mfatihaktas/followers\",\"following_url\":\"https://api.github.com/users/mfatihaktas/following{/other_user}\",\"gists_url\":\"https://api.github.com/users/mfatihaktas/gists{/gist_id}\",\"starred_url\":\"https://api.github.com/users/mfatihaktas/starred{/owner}{/repo}\",\"subscriptions_url\":\"https://api.github.com/users/mfatihaktas/subscriptions\",\"organizations_url\":\"https://api.github.com/users/mfatihaktas/orgs\",\"repos_url\":\"https://api.github.com/users/mfatihaktas/repos\",\"events_url\":\"https://api.github.com/users/mfatihaktas/events{/privacy}\",\"received_events_url\":\"https://api.github.com/users/mfatihaktas/received_events\",\"type\":\"User\",\"site_admin\":false},\"repo\":{\"id\":694250812,\"node_id\":\"R_kgDOKWFtPA\",\"name\":\"ibis\",\"full_name\":\"mfatihaktas/ibis\",\"private\":false}},\"base\":{\"label\":\"ibis-project:main\",\"ref\":\"main\",\"sha\":\"27c9d0fd5ead1cb27a2e8b2e5c5d89c88451f6b3\",\"user\":{\"login\":\"ibis-project\",\"id\":27442526,\"node_id\":\"MDEyOk9yZ2FuaXphdGlvbjI3NDQyNTI2\",\"avatar_url\":\"https://avatars.githubusercontent.com/u/27442526?v=4\",\"gravatar_id\":\"\",\"url\":\"https://api.github.com/users/ibis-project\",\"html_url\":\"https://github.com/ibis-project\",\"followers_url\":\"https://api.github.com/users/ibis-project/followers\",\"following_url\":\"https://api.github.com/users/ibis-project/following{/other_user}\",\"gists_url\":\"https://api.github.com/users/ibis-project/gists{/gist_id}\",\"starred_url\":\"https://api.github.com/users/ibis-project/starred{/owner}{/repo}\",\"subscriptions_url\":\"https://api.github.com/users/ibis-project/subscriptions\",\"organizations_url\":\"https://api.github.com/users/ibis-project/orgs\",\"repos_url\":\"https://api.github.com/users/ibis-project/repos\",\"events_url\":\"https://api.github.com/users/ibis-project/events{/privacy}\",\"received_events_url\":\"https://api.github.com/users/ibis-project/received_events\",\"type\":\"Organization\",\"site_admin\":false},\"repo\":{\"id\":34139230,\"node_id\":\"MDEwOlJlcG9zaXRvcnkzNDEzOTIzMA==\",\"name\":\"ibis\",\"full_name\":\"ibis-project/ibis\",\"private\":false}},\"_links\":{\"self\":{\"href\":\"https://api.github.com/repos/ibis-project/ibis/pulls/8517\"},\"html\":{\"href\":\"https://github.com/ibis-project/ibis/pull/8517\"},\"issue\":{\"href\":\"https://api.github.com/repos/ibis-project/ibis/issues/8517\"},\"comments\":{\"href\":\"https://api.github.com/repos/ibis-project/ibis/issues/8517/comments\"},\"review_comments\":{\"href\":\"https://api.github.com/repos/ibis-project/ibis/pulls/8517/comments\"},\"review_comment\":{\"href\":\"https://api.github.com/repos/ibis-project/ibis/pulls/comments{/number}\"},\"commits\":{\"href\":\"https://api.github.com/repos/ibis-project/ibis/pulls/8517/commits\"},\"statuses\":{\"href\":\"https://api.github.com/repos/ibis-project/ibis/statuses/31ec7f20b18856a6493171ae1ea776ec7b049847\"}},\"author_association\":\"CONTRIBUTOR\",\"auto_merge\":null,\"active_lock_reason\":null,\"merged\":false,\"mergeable\":false,\"rebaseable\":false,\"mergeable_state\":\"dirty\",\"merged_by\":null,\"comments\":1,\"review_comments\":6,\"maintainer_can_modify\":false,\"commits\":1,\"additions\":610,\"deletions\":11,\"changed_files\":16}},\"public\":true,\"created_at\":\"2024-09-30T11:17:43Z\",\"org\":{\"id\":27442526,\"login\":\"ibis-project\",\"gravatar_id\":\"\",\"url\":\"https://api.github.com/orgs/ibis-project\",\"avatar_url\":\"https://avatars.githubusercontent.com/u/27442526?\"}},{\"id\":\"42392817553\",\"type\":\"CreateEvent\",\"actor\":{\"id\":183278519,\"login\":\"MaramGhosn\",\"display_login\":\"MaramGhosn\",\"gravatar_id\":\"\",\"url\":\"https://api.github.com/users/MaramGhosn\",\"avatar_url\":\"https://avatars.githubusercontent.com/u/183278519?\"},\"repo\":{\"id\":865333256,\"name\":\"MaramGhosn/jbbmo-Introduction-to-Git-and-GitHub\",\"url\":\"https://api.github.com/repos/MaramGhosn/jbbmo-Introduction-to-Git-and-GitHub\"},\"payload\":{\"ref\":\"bug-fix-typo\",\"ref_type\":\"branch\",\"master_branch\":\"master\",\"description\":\"Introduction to Git and GitHub\",\"pusher_type\":\"user\"},\"public\":true,\"created_at\":\"2024-09-30T11:17:43Z\"},{\"id\":\"42392817556\",\"type\":\"DeleteEvent\",\"actor\":{\"id\":120102947,\"login\":\"scalr-autotester13\",\"display_login\":\"scalr-autotester13\",\"gravatar_id\":\"\",\"url\":\"https://api.github.com/users/scalr-autotester13\",\"avatar_url\":\"https://avatars.githubusercontent.com/u/120102947?\"},\"repo\":{\"id\":492880233,\"name\":\"scalr-automation/terraform-scalr-flat-mirror2\",\"url\":\"https://api.github.com/repos/scalr-automation/terraform-scalr-flat-mirror2\"},\"payload\":{\"ref\":\"abase-energy-act-result\",\"ref_type\":\"branch\",\"pusher_type\":\"user\"},\"public\":true,\"created_at\":\"2024-09-30T11:17:43Z\",\"org\":{\"id\":103308247,\"login\":\"scalr-automation\",\"gravatar_id\":\"\",\"url\":\"https://api.github.com/orgs/scalr-automation\",\"avatar_url\":\"https://avatars.githubusercontent.com/u/103308247?\"}},{\"id\":\"42392817533\",\"type\":\"PullRequestReviewCommentEvent\",\"actor\":{\"id\":19800410,\"login\":\"fkokosinski\",\"display_login\":\"fkokosinski\",\"gravatar_id\":\"\",\"url\":\"https://api.github.com/users/fkokosinski\",\"avatar_url\":\"https://avatars.githubusercontent.com/u/19800410?\"},\"repo\":{\"id\":59771425,\"name\":\"zephyrproject-rtos/zephyr\",\"url\":\"https://api.github.com/repos/zephyrproject-rtos/zephyr\"},\"payload\":{\"action\":\"created\",\"comment\":{\"url\":\"https://api.github.com/repos/zephyrproject-rtos/zephyr/pulls/comments/1780922098\",\"pull_request_review_id\":2337195299,\"id\":1780922098,\"node_id\":\"PRRC_kwDOA5AKIc5qJrby\",\"diff_hunk\":\"@@ -0,0 +1,137 @@\\\\n+/*\\\\n+ * Copyright (c) 2024 Antmicro <www.antmicro.com>\\\\n+ *\\\\n+ * SPDX-License-Identifier: Apache-2.0\\\\n+ */\\\\n+\\\\n+#include <zephyr/logging/log.h>\\\\n+#include <zephyr/kernel.h>\\\\n+#include <zephyr/device.h>\\\\n+#include <zephyr/input/input.h>\\\\n+#include <zephyr/drivers/display.h>\\\\n+\\\\n+LOG_MODULE_REGISTER(sample, LOG_LEVEL_INF);\\\\n+\\\\n+#define BUFFER_SIZE  (CONFIG_CROSS_WIDTH * CONFIG_CROSS_HEIGHT * 4)\",\"path\":\"samples/drivers/touch/src/main.c\",\"commit_id\":\"5b0e1cdbae3d40882bf7f3db73fdc90eb41b8c97\",\"original_commit_id\":\"23ff6e125b95862016d22d8a0ce67ab149da7fb4\",\"user\":{\"login\":\"fkokosinski\",\"id\":19800410,\"node_id\":\"MDQ6VXNlcjE5ODAwNDEw\",\"avatar_url\":\"https://avatars.githubusercontent.com/u/19800410?v=4\",\"gravatar_id\":\"\",\"url\":\"https://api.github.com/users/fkokosinski\",\"html_url\":\"https://github.com/fkokosinski\",\"followers_url\":\"https://api.github.com/users/fkokosinski/followers\",\"following_url\":\"https://api.github.com/users/fkokosinski/following{/other_user}\",\"gists_url\":\"https://api.github.com/users/fkokosinski/gists{/gist_id}\",\"starred_url\":\"https://api.github.com/users/fkokosinski/starred{/owner}{/repo}\",\"subscriptions_url\":\"https://api.github.com/users/fkokosinski/subscriptions\",\"organizations_url\":\"https://api.github.com/users/fkokosinski/orgs\",\"repos_url\":\"https://api.github.com/users/fkokosinski/repos\",\"events_url\":\"https://api.github.com/users/fkokosinski/events{/privacy}\",\"received_events_url\":\"https://api.github.com/users/fkokosinski/received_events\",\"type\":\"User\",\"site_admin\":false},\"body\":\"Switched to using BPP here\",\"created_at\":\"2024-09-30T11:17:42Z\",\"updated_at\":\"2024-09-30T11:17:43Z\",\"html_url\":\"https://github.com/zephyrproject-rtos/zephyr/pull/77227#discussion_r1780922098\",\"pull_request_url\":\"https://api.github.com/repos/zephyrproject-rtos/zephyr/pulls/77227\",\"author_association\":\"MEMBER\",\"_links\":{\"self\":{\"href\":\"https://api.github.com/repos/zephyrproject-rtos/zephyr/pulls/comments/1780922098\"},\"html\":{\"href\":\"https://github.com/zephyrproject-rtos/zephyr/pull/77227#discussion_r1780922098\"},\"pull_request\":{\"href\":\"https://api.github.com/repos/zephyrproject-rtos/zephyr/pulls/77227\"}},\"reactions\":{\"url\":\"https://api.github.com/repos/zephyrproject-rtos/zephyr/pulls/comments/1780922098/reactions\",\"total_count\":0,\"+1\":0,\"-1\":0,\"laugh\":0,\"hooray\":0,\"confused\":0,\"heart\":0,\"rocket\":0,\"eyes\":0},\"start_line\":null,\"original_start_line\":null,\"start_side\":null,\"line\":null,\"original_line\":15,\"side\":\"RIGHT\",\"in_reply_to_id\":1762777114,\"original_position\":15,\"position\":null,\"subject_type\":\"line\"},\"pull_request\":{\"url\":\"https://api.github.com/repos/zephyrproject-rtos/zephyr/pulls/77227\",\"id\":2025322892,\"node_id\":\"PR_kwDOA5AKIc54t_mM\",\"html_url\":\"https://github.com/zephyrproject-rtos/zephyr/pull/77227\",\"diff_url\":\"https://github.com/zephyrproject-rtos/zephyr/pull/77227.diff\",\"patch_url\":\"https://github.com/zephyrproject-rtos/zephyr/pull/77227.patch\",\"issue_url\":\"https://api.github.com/repos/zephyrproject-rtos/zephyr/issues/77227\",\"number\":77227,\"state\":\"open\",\"locked\":false,\"title\":\"samples: drivers: added a simple touch controller sample\",\"user\":{\"login\":\"fkokosinski\",\"id\":19800410,\"node_id\":\"MDQ6VXNlcjE5ODAwNDEw\",\"avatar_url\":\"https://avatars.githubusercontent.com/u/19800410?v=4\",\"gravatar_id\":\"\",\"url\":\"https://api.github.com/users/fkokosinski\",\"html_url\":\"https://github.com/fkokosinski\",\"followers_url\":\"https://api.github.com/users/fkokosinski/followers\",\"following_url\":\"https://api.github.com/users/fkokosinski/following{/other_user}\",\"gists_url\":\"https://api.github.com/users/fkokosinski/gists{/gist_id}\",\"starred_url\":\"https://api.github.com/users/fkokosinski/starred{/owner}{/repo}\",\"subscriptions_url\":\"https://api.github.com/users/fkokosinski/subscriptions\",\"organizations_url\":\"https://api.github.com/users/fkokosinski/orgs\",\"repos_url\":\"https://api.github.com/users/fkokosinski/repos\",\"events_url\":\"https://api.github.com/users/fkokosinski/events{/privacy}\",\"received_events_url\":\"https://api.github.com/users/fkokosinski/received_events\",\"type\":\"User\",\"site_admin\":false},\"body\":\"This PR adds a sample for the touch controller. The sample is supposed to help examine issues when working with touchscreens. It draws a plus in the last touched position.\\\\r\\\\n\\\\r\\\\nCan be tested natively with:\\\\r\\\\n```\\\\r\\\\nwest build -p -b native_posix/native/64 samples/drivers/touch -t run\\\\r\\\\n```\",\"created_at\":\"2024-08-19T10:39:45Z\",\"updated_at\":\"2024-09-30T11:17:43Z\",\"closed_at\":null,\"merged_at\":null,\"merge_commit_sha\":\"6495b8aaf2831d673d03f9359a97aeec4cd5215f\",\"assignee\":{\"login\":\"kartben\",\"id\":128251,\"node_id\":\"MDQ6VXNlcjEyODI1MQ==\",\"avatar_url\":\"https://avatars.githubusercontent.com/u/128251?v=4\",\"gravatar_id\":\"\",\"url\":\"https://api.github.com/users/kartben\",\"html_url\":\"https://github.com/kartben\",\"followers_url\":\"https://api.github.com/users/kartben/followers\",\"following_url\":\"https://api.github.com/users/kartben/following{/other_user}\",\"gists_url\":\"https://api.github.com/users/kartben/gists{/gist_id}\",\"starred_url\":\"https://api.github.com/users/kartben/starred{/owner}{/repo}\",\"subscriptions_url\":\"https://api.github.com/users/kartben/subscriptions\",\"organizations_url\":\"https://api.github.com/users/kartben/orgs\",\"repos_url\":\"https://api.github.com/users/kartben/repos\",\"events_url\":\"https://api.github.com/users/kartben/events{/privacy}\",\"received_events_url\":\"https://api.github.com/users/kartben/received_events\",\"type\":\"User\",\"site_admin\":false},\"assignees\":[{\"login\":\"kartben\",\"id\":128251,\"node_id\":\"MDQ6VXNlcjEyODI1MQ==\",\"avatar_url\":\"https://avatars.githubusercontent.com/u/128251?v=4\",\"gravatar_id\":\"\",\"url\":\"https://api.github.com/users/kartben\",\"html_url\":\"https://github.com/kartben\",\"followers_url\":\"https://api.github.com/users/kartben/followers\",\"following_url\":\"https://api.github.com/users/kartben/following{/other_user}\",\"gists_url\":\"https://api.github.com/users/kartben/gists{/gist_id}\",\"starred_url\":\"https://api.github.com/users/kartben/starred{/owner}{/repo}\",\"subscriptions_url\":\"https://api.github.com/users/kartben/subscriptions\",\"organizations_url\":\"https://api.github.com/users/kartben/orgs\",\"repos_url\":\"https://api.github.com/users/kartben/repos\",\"events_url\":\"https://api.github.com/users/kartben/events{/privacy}\",\"received_events_url\":\"https://api.github.com/users/kartben/received_events\",\"type\":\"User\",\"site_admin\":false}],\"requested_reviewers\":[{\"login\":\"avisconti\",\"id\":102133,\"node_id\":\"MDQ6VXNlcjEwMjEzMw==\",\"avatar_url\":\"https://avatars.githubusercontent.com/u/102133?v=4\",\"gravatar_id\":\"\",\"url\":\"https://api.github.com/users/avisconti\",\"html_url\":\"https://github.com/avisconti\",\"followers_url\":\"https://api.github.com/users/avisconti/followers\",\"following_url\":\"https://api.github.com/users/avisconti/following{/other_user}\",\"gists_url\":\"https://api.github.com/users/avisconti/gists{/gist_id}\",\"starred_url\":\"https://api.github.com/users/avisconti/starred{/owner}{/repo}\",\"subscriptions_url\":\"https://api.github.com/users/avisconti/subscriptions\",\"organizations_url\":\"https://api.github.com/users/avisconti/orgs\",\"repos_url\":\"https://api.github.com/users/avisconti/repos\",\"events_url\":\"https://api.github.com/users/avisconti/events{/privacy}\",\"received_events_url\":\"https://api.github.com/users/avisconti/received_events\",\"type\":\"User\",\"site_admin\":false},{\"login\":\"nashif\",\"id\":180017,\"node_id\":\"MDQ6VXNlcjE4MDAxNw==\",\"avatar_url\":\"https://avatars.githubusercontent.com/u/180017?v=4\",\"gravatar_id\":\"\",\"url\":\"https://api.github.com/users/nashif\",\"html_url\":\"https://github.com/nashif\",\"followers_url\":\"https://api.github.com/users/nashif/followers\",\"following_url\":\"https://api.github.com/users/nashif/following{/other_user}\",\"gists_url\":\"https://api.github.com/users/nashif/gists{/gist_id}\",\"starred_url\":\"https://api.github.com/users/nashif/starred{/owner}{/repo}\",\"subscriptions_url\":\"https://api.github.com/users/nashif/subscriptions\",\"organizations_url\":\"https://api.github.com/users/nashif/orgs\",\"repos_url\":\"https://api.github.com/users/nashif/repos\",\"events_url\":\"https://api.github.com/users/nashif/events{/privacy}\",\"received_events_url\":\"https://api.github.com/users/nashif/received_events\",\"type\":\"User\",\"site_admin\":false},{\"login\":\"GeorgeCGV\",\"id\":5956504,\"node_id\":\"MDQ6VXNlcjU5NTY1MDQ=\",\"avatar_url\":\"https://avatars.githubusercontent.com/u/5956504?v=4\",\"gravatar_id\":\"\",\"url\":\"https://api.github.com/users/GeorgeCGV\",\"html_url\":\"https://github.com/GeorgeCGV\",\"followers_url\":\"https://api.github.com/users/GeorgeCGV/followers\",\"following_url\":\"https://api.github.com/users/GeorgeCGV/following{/other_user}\",\"gists_url\":\"https://api.github.com/users/GeorgeCGV/gists{/gist_id}\",\"starred_url\":\"https://api.github.com/users/GeorgeCGV/starred{/owner}{/repo}\",\"subscriptions_url\":\"https://api.github.com/users/GeorgeCGV/subscriptions\",\"organizations_url\":\"https://api.github.com/users/GeorgeCGV/orgs\",\"repos_url\":\"https://api.github.com/users/GeorgeCGV/repos\",\"events_url\":\"https://api.github.com/users/GeorgeCGV/events{/privacy}\",\"received_events_url\":\"https://api.github.com/users/GeorgeCGV/received_events\",\"type\":\"User\",\"site_admin\":false},{\"login\":\"jfischer-no\",\"id\":9864546,\"node_id\":\"MDQ6VXNlcjk4NjQ1NDY=\",\"avatar_url\":\"https://avatars.githubusercontent.com/u/9864546?v=4\",\"gravatar_id\":\"\",\"url\":\"https://api.github.com/users/jfischer-no\",\"html_url\":\"https://github.com/jfischer-no\",\"followers_url\":\"https://api.github.com/users/jfischer-no/followers\",\"following_url\":\"https://api.github.com/users/jfischer-no/following{/other_user}\",\"gists_url\":\"https://api.github.com/users/jfischer-no/gists{/gist_id}\",\"starred_url\":\"https://api.github.com/users/jfischer-no/starred{/owner}{/repo}\",\"subscriptions_url\":\"https://api.github.com/users/jfischer-no/subscriptions\",\"organizations_url\":\"https://api.github.com/users/jfischer-no/orgs\",\"repos_url\":\"https://api.github.com/users/jfischer-no/repos\",\"events_url\":\"https://api.github.com/users/jfischer-no/events{/privacy}\",\"received_events_url\":\"https://api.github.com/users/jfischer-no/received_events\",\"type\":\"User\",\"site_admin\":false},{\"login\":\"erwango\",\"id\":18574308,\"node_id\":\"MDQ6VXNlcjE4NTc0MzA4\",\"avatar_url\":\"https://avatars.githubusercontent.com/u/18574308?v=4\",\"gravatar_id\":\"\",\"url\":\"https://api.github.com/users/erwango\",\"html_url\":\"https://github.com/erwango\",\"followers_url\":\"https://api.github.com/users/erwango/followers\",\"following_url\":\"https://api.github.com/users/erwango/following{/other_user}\",\"gists_url\":\"https://api.github.com/users/erwango/gists{/gist_id}\",\"starred_url\":\"https://api.github.com/users/erwango/starred{/owner}{/repo}\",\"subscriptions_url\":\"https://api.github.com/users/erwango/subscriptions\",\"organizations_url\":\"https://api.github.com/users/erwango/orgs\",\"repos_url\":\"https://api.github.com/users/erwango/repos\",\"events_url\":\"https://api.github.com/users/erwango/events{/privacy}\",\"received_events_url\":\"https://api.github.com/users/erwango/received_events\",\"type\":\"User\",\"site_admin\":false},{\"login\":\"FRASTM\",\"id\":51417392,\"node_id\":\"MDQ6VXNlcjUxNDE3Mzky\",\"avatar_url\":\"https://avatars.githubusercontent.com/u/51417392?v=4\",\"gravatar_id\":\"\",\"url\":\"https://api.github.com/users/FRASTM\",\"html_url\":\"https://github.com/FRASTM\",\"followers_url\":\"https://api.github.com/users/FRASTM/followers\",\"following_url\":\"https://api.github.com/users/FRASTM/following{/other_user}\",\"gists_url\":\"https://api.github.com/users/FRASTM/gists{/gist_id}\",\"starred_url\":\"https://api.github.com/users/FRASTM/starred{/owner}{/repo}\",\"subscriptions_url\":\"https://api.github.com/users/FRASTM/subscriptions\",\"organizations_url\":\"https://api.github.com/users/FRASTM/orgs\",\"repos_url\":\"https://api.github.com/users/FRASTM/repos\",\"events_url\":\"https://api.github.com/users/FRASTM/events{/privacy}\",\"received_events_url\":\"https://api.github.com/users/FRASTM/received_events\",\"type\":\"User\",\"site_admin\":false},{\"login\":\"gautierg-st\",\"id\":103205175,\"node_id\":\"U_kgDOBibJNw\",\"avatar_url\":\"https://avatars.githubusercontent.com/u/103205175?v=4\",\"gravatar_id\":\"\",\"url\":\"https://api.github.com/users/gautierg-st\",\"html_url\":\"https://github.com/gautierg-st\",\"followers_url\":\"https://api.github.com/users/gautierg-st/followers\",\"following_url\":\"https://api.github.com/users/gautierg-st/following{/other_user}\",\"gists_url\":\"https://api.github.com/users/gautierg-st/gists{/gist_id}\",\"starred_url\":\"https://api.github.com/users/gautierg-st/starred{/owner}{/repo}\",\"subscriptions_url\":\"https://api.github.com/users/gautierg-st/subscriptions\",\"organizations_url\":\"https://api.github.com/users/gautierg-st/orgs\",\"repos_url\":\"https://api.github.com/users/gautierg-st/repos\",\"events_url\":\"https://api.github.com/users/gautierg-st/events{/privacy}\",\"received_events_url\":\"https://api.github.com/users/gautierg-st/received_events\",\"type\":\"User\",\"site_admin\":false},{\"login\":\"mathieuchopstm\",\"id\":147814239,\"node_id\":\"U_kgDOCM93Xw\",\"avatar_url\":\"https://avatars.githubusercontent.com/u/147814239?v=4\",\"gravatar_id\":\"\",\"url\":\"https://api.github.com/users/mathieuchopstm\",\"html_url\":\"https://github.com/mathieuchopstm\",\"followers_url\":\"https://api.github.com/users/mathieuchopstm/followers\",\"following_url\":\"https://api.github.com/users/mathieuchopstm/following{/other_user}\",\"gists_url\":\"https://api.github.com/users/mathieuchopstm/gists{/gist_id}\",\"starred_url\":\"https://api.github.com/users/mathieuchopstm/starred{/owner}{/repo}\",\"subscriptions_url\":\"https://api.github.com/users/mathieuchopstm/subscriptions\",\"organizations_url\":\"https://api.github.com/users/mathieuchopstm/orgs\",\"repos_url\":\"https://api.github.com/users/mathieuchopstm/repos\",\"events_url\":\"https://api.github.com/users/mathieuchopstm/events{/privacy}\",\"received_events_url\":\"https://api.github.com/users/mathieuchopstm/received_events\",\"type\":\"User\",\"site_admin\":false},{\"login\":\"marwaiehm-st\",\"id\":161579084,\"node_id\":\"U_kgDOCaGATA\",\"avatar_url\":\"https://avatars.githubusercontent.com/u/161579084?v=4\",\"gravatar_id\":\"\",\"url\":\"https://api.github.com/users/marwaiehm-st\",\"html_url\":\"https://github.com/marwaiehm-st\",\"followers_url\":\"https://api.github.com/users/marwaiehm-st/followers\",\"following_url\":\"https://api.github.com/users/marwaiehm-st/following{/other_user}\",\"gists_url\":\"https://api.github.com/users/marwaiehm-st/gists{/gist_id}\",\"starred_url\":\"https://api.github.com/users/marwaiehm-st/starred{/owner}{/repo}\",\"subscriptions_url\":\"https://api.github.com/users/marwaiehm-st/subscriptions\",\"organizations_url\":\"https://api.github.com/users/marwaiehm-st/orgs\",\"repos_url\":\"https://api.github.com/users/marwaiehm-st/repos\",\"events_url\":\"https://api.github.com/users/marwaiehm-st/events{/privacy}\",\"received_events_url\":\"https://api.github.com/users/marwaiehm-st/received_events\",\"type\":\"User\",\"site_admin\":false}],\"requested_teams\":[],\"labels\":[{\"id\":700756981,\"node_id\":\"MDU6TGFiZWw3MDA3NTY5ODE=\",\"url\":\"https://api.github.com/repos/zephyrproject-rtos/zephyr/labels/area:%20Samples\",\"name\":\"area: Samples\",\"color\":\"ededed\",\"default\":false,\"description\":\"Samples\"},{\"id\":723804881,\"node_id\":\"MDU6TGFiZWw3MjM4MDQ4ODE=\",\"url\":\"https://api.github.com/repos/zephyrproject-rtos/zephyr/labels/platform:%20STM32\",\"name\":\"platform: STM32\",\"color\":\"5319e7\",\"default\":false,\"description\":\"ST Micro STM32\"},{\"id\":725956409,\"node_id\":\"MDU6TGFiZWw3MjU5NTY0MDk=\",\"url\":\"https://api.github.com/repos/zephyrproject-rtos/zephyr/labels/platform:%20NXP\",\"name\":\"platform: NXP\",\"color\":\"5319e7\",\"default\":false,\"description\":\"NXP\"},{\"id\":787143007,\"node_id\":\"MDU6TGFiZWw3ODcxNDMwMDc=\",\"url\":\"https://api.github.com/repos/zephyrproject-rtos/zephyr/labels/area:%20native%20port\",\"name\":\"area: native port\",\"color\":\"ededed\",\"default\":false,\"description\":\"Host native arch port (native_sim)\"},{\"id\":1071002853,\"node_id\":\"MDU6TGFiZWwxMDcxMDAyODUz\",\"url\":\"https://api.github.com/repos/zephyrproject-rtos/zephyr/labels/area:%20Shields\",\"name\":\"area: Shields\",\"color\":\"ededed\",\"default\":false,\"description\":\"Shields (add-on boards)\"},{\"id\":5221491961,\"node_id\":\"LA_kwDOA5AKIc8AAAABNzmk-Q\",\"url\":\"https://api.github.com/repos/zephyrproject-rtos/zephyr/labels/area:%20Input\",\"name\":\"area: Input\",\"color\":\"ededed\",\"default\":false,\"description\":\"Input Subsystem and Drivers\"},{\"id\":5231110218,\"node_id\":\"LA_kwDOA5AKIc8AAAABN8xoSg\",\"url\":\"https://api.github.com/repos/zephyrproject-rtos/zephyr/labels/platform:%20Renesas%20SmartBond\",\"name\":\"platform: Renesas SmartBond\",\"color\":\"5319e7\",\"default\":false,\"description\":\"Renesas Electronics Corporation, SmartBond\"},{\"id\":7124690708,\"node_id\":\"LA_kwDOA5AKIc8AAAABqKonFA\",\"url\":\"https://api.github.com/repos/zephyrproject-rtos/zephyr/labels/platform:%20Ezurio\",\"name\":\"platform: Ezurio\",\"color\":\"5319e7\",\"default\":false,\"description\":\"\"}],\"milestone\":null,\"draft\":false,\"commits_url\":\"https://api.github.com/repos/zephyrproject-rtos/zephyr/pulls/77227/commits\",\"review_comments_url\":\"https://api.github.com/repos/zephyrproject-rtos/zephyr/pulls/77227/comments\",\"review_comment_url\":\"https://api.github.com/repos/zephyrproject-rtos/zephyr/pulls/comments{/number}\",\"comments_url\":\"https://api.github.com/repos/zephyrproject-rtos/zephyr/issues/77227/comments\",\"statuses_url\":\"https://api.github.com/repos/zephyrproject-rtos/zephyr/statuses/5b0e1cdbae3d40882bf7f3db73fdc90eb41b8c97\",\"head\":{\"label\":\"antmicro:touch-sample\",\"ref\":\"touch-sample\",\"sha\":\"5b0e1cdbae3d40882bf7f3db73fdc90eb41b8c97\",\"user\":{\"login\":\"antmicro\",\"id\":927785,\"node_id\":\"MDEyOk9yZ2FuaXphdGlvbjkyNzc4NQ==\",\"avatar_url\":\"https://avatars.githubusercontent.com/u/927785?v=4\",\"gravatar_id\":\"\",\"url\":\"https://api.github.com/users/antmicro\",\"html_url\":\"https://github.com/antmicro\",\"followers_url\":\"https://api.github.com/users/antmicro/followers\",\"following_url\":\"https://api.github.com/users/antmicro/following{/other_user}\",\"gists_url\":\"https://api.github.com/users/antmicro/gists{/gist_id}\",\"starred_url\":\"https://api.github.com/users/antmicro/starred{/owner}{/repo}\",\"subscriptions_url\":\"https://api.github.com/users/antmicro/subscriptions\",\"organizations_url\":\"https://api.github.com/users/antmicro/orgs\",\"repos_url\":\"https://api.github.com/users/antmicro/repos\",\"events_url\":\"https://api.github.com/users/antmicro/events{/privacy}\",\"received_events_url\":\"https://api.github.com/users/antmicro/received_events\",\"type\":\"Organization\",\"site_admin\":false},\"repo\":{\"id\":91610223,\"node_id\":\"MDEwOlJlcG9zaXRvcnk5MTYxMDIyMw==\",\"name\":\"zephyr\",\"full_name\":\"antmicro/zephyr\",\"private\":false}},\"base\":{\"label\":\"zephyrproject-rtos:main\",\"ref\":\"main\",\"sha\":\"f810e1318f385ade00b12a5bdddc4324c177f02a\",\"user\":{\"login\":\"zephyrproject-rtos\",\"id\":19595895,\"node_id\":\"MDEyOk9yZ2FuaXphdGlvbjE5NTk1ODk1\",\"avatar_url\":\"https://avatars.githubusercontent.com/u/19595895?v=4\",\"gravatar_id\":\"\",\"url\":\"https://api.github.com/users/zephyrproject-rtos\",\"html_url\":\"https://github.com/zephyrproject-rtos\",\"followers_url\":\"https://api.github.com/users/zephyrproject-rtos/followers\",\"following_url\":\"https://api.github.com/users/zephyrproject-rtos/following{/other_user}\",\"gists_url\":\"https://api.github.com/users/zephyrproject-rtos/gists{/gist_id}\",\"starred_url\":\"https://api.github.com/users/zephyrproject-rtos/starred{/owner}{/repo}\",\"subscriptions_url\":\"https://api.github.com/users/zephyrproject-rtos/subscriptions\",\"organizations_url\":\"https://api.github.com/users/zephyrproject-rtos/orgs\",\"repos_url\":\"https://api.github.com/users/zephyrproject-rtos/repos\",\"events_url\":\"https://api.github.com/users/zephyrproject-rtos/events{/privacy}\",\"received_events_url\":\"https://api.github.com/users/zephyrproject-rtos/received_events\",\"type\":\"Organization\",\"site_admin\":false},\"repo\":{\"id\":59771425,\"node_id\":\"MDEwOlJlcG9zaXRvcnk1OTc3MTQyNQ==\",\"name\":\"zephyr\",\"full_name\":\"zephyrproject-rtos/zephyr\",\"private\":false}},\"_links\":{\"self\":{\"href\":\"https://api.github.com/repos/zephyrproject-rtos/zephyr/pulls/77227\"},\"html\":{\"href\":\"https://github.com/zephyrproject-rtos/zephyr/pull/77227\"},\"issue\":{\"href\":\"https://api.github.com/repos/zephyrproject-rtos/zephyr/issues/77227\"},\"comments\":{\"href\":\"https://api.github.com/repos/zephyrproject-rtos/zephyr/issues/77227/comments\"},\"review_comments\":{\"href\":\"https://api.github.com/repos/zephyrproject-rtos/zephyr/pulls/77227/comments\"},\"review_comment\":{\"href\":\"https://api.github.com/repos/zephyrproject-rtos/zephyr/pulls/comments{/number}\"},\"commits\":{\"href\":\"https://api.github.com/repos/zephyrproject-rtos/zephyr/pulls/77227/commits\"},\"statuses\":{\"href\":\"https://api.github.com/repos/zephyrproject-rtos/zephyr/statuses/5b0e1cdbae3d40882bf7f3db73fdc90eb41b8c97\"}},\"author_association\":\"MEMBER\",\"auto_merge\":null,\"active_lock_reason\":null}},\"public\":true,\"created_at\":\"2024-09-30T11:17:42Z\",\"org\":{\"id\":19595895,\"login\":\"zephyrproject-rtos\",\"gravatar_id\":\"\",\"url\":\"https://api.github.com/orgs/zephyrproject-rtos\",\"avatar_url\":\"https://avatars.githubusercontent.com/u/19595895?\"}}]'"
      ]
     },
     "execution_count": 465,
     "metadata": {},
     "output_type": "execute_result"
    }
   ],
   "source": [
    "r.text"
   ]
  },
  {
   "cell_type": "code",
   "execution_count": null,
   "metadata": {},
   "outputs": [],
   "source": [
    "r.json()"
   ]
  },
  {
   "cell_type": "markdown",
   "metadata": {},
   "source": [
    "* Utilizando outro endpoint"
   ]
  },
  {
   "cell_type": "code",
   "execution_count": 467,
   "metadata": {},
   "outputs": [
    {
     "data": {
      "text/plain": [
       "200"
      ]
     },
     "execution_count": 467,
     "metadata": {},
     "output_type": "execute_result"
    }
   ],
   "source": [
    "r = requests.get('https://api.github.com/versions')\n",
    "r.status_code"
   ]
  },
  {
   "cell_type": "code",
   "execution_count": 468,
   "metadata": {},
   "outputs": [
    {
     "data": {
      "text/plain": [
       "['2022-11-28']"
      ]
     },
     "execution_count": 468,
     "metadata": {},
     "output_type": "execute_result"
    }
   ],
   "source": [
    "r.json()"
   ]
  },
  {
   "cell_type": "markdown",
   "metadata": {},
   "source": [
    "* Nessa aula, você aprendeu a:\n",
    "Trabalhar no WSL;\n",
    "Configurar um ambiente virtual;\n",
    "Utilizar a biblioteca Requests do Python;\n",
    "Extrair dados de uma API REST;\n",
    "Realizar uma requisição GET;\n",
    "Identificar status codes;\n",
    "Manipular endpoints."
   ]
  },
  {
   "cell_type": "markdown",
   "metadata": {},
   "source": [
    "## Extraindo dados"
   ]
  },
  {
   "cell_type": "markdown",
   "metadata": {},
   "source": [
    "* Obtendo dados dos repositórios"
   ]
  },
  {
   "cell_type": "code",
   "execution_count": 469,
   "metadata": {},
   "outputs": [],
   "source": [
    "#especificando a versão da API\n",
    "headers = {\"X-GitHub-Api-Version\":\"2022-11-28\" }"
   ]
  },
  {
   "cell_type": "code",
   "execution_count": 470,
   "metadata": {},
   "outputs": [],
   "source": [
    "api_base_url = 'http://api.github.com'\n",
    "owner = 'amzn' #username de quem estamos extraindo os dados\n",
    "url = f'{api_base_url}/users/{owner}/repos'"
   ]
  },
  {
   "cell_type": "code",
   "execution_count": 471,
   "metadata": {},
   "outputs": [
    {
     "data": {
      "text/plain": [
       "'http://api.github.com/users/amzn/repos'"
      ]
     },
     "execution_count": 471,
     "metadata": {},
     "output_type": "execute_result"
    }
   ],
   "source": [
    "url"
   ]
  },
  {
   "cell_type": "code",
   "execution_count": 472,
   "metadata": {},
   "outputs": [
    {
     "data": {
      "text/plain": [
       "200"
      ]
     },
     "execution_count": 472,
     "metadata": {},
     "output_type": "execute_result"
    }
   ],
   "source": [
    "response = requests.get(url, headers=headers)\n",
    "response.status_code"
   ]
  },
  {
   "cell_type": "code",
   "execution_count": null,
   "metadata": {},
   "outputs": [],
   "source": [
    "response.json()"
   ]
  },
  {
   "cell_type": "code",
   "execution_count": 474,
   "metadata": {},
   "outputs": [
    {
     "data": {
      "text/plain": [
       "30"
      ]
     },
     "execution_count": 474,
     "metadata": {},
     "output_type": "execute_result"
    }
   ],
   "source": [
    "len(response.json()) # número de repositorios"
   ]
  },
  {
   "cell_type": "markdown",
   "metadata": {},
   "source": [
    "# Paginando os repositórios\n"
   ]
  },
  {
   "cell_type": "code",
   "execution_count": 475,
   "metadata": {},
   "outputs": [],
   "source": [
    "access_token ='seu token'\n",
    "headers = {'Authorization':'Bearer ' + access_token,\n",
    "            \"X-GitHub-Api-Version\":\"2022-11-28\" }"
   ]
  },
  {
   "cell_type": "code",
   "execution_count": 476,
   "metadata": {},
   "outputs": [],
   "source": [
    "api_base_url = 'https://api.github.com'\n",
    "owner = 'amzn' # username de quem vamos extrair os dados\n",
    "url = f'{api_base_url}/users/{owner}/repos'\n"
   ]
  },
  {
   "cell_type": "code",
   "execution_count": 477,
   "metadata": {},
   "outputs": [
    {
     "data": {
      "text/plain": [
       "'https://api.github.com/users/amzn/repos'"
      ]
     },
     "execution_count": 477,
     "metadata": {},
     "output_type": "execute_result"
    }
   ],
   "source": [
    "url"
   ]
  },
  {
   "cell_type": "code",
   "execution_count": 478,
   "metadata": {},
   "outputs": [],
   "source": [
    "repos_list = [ ]\n",
    "for page_num in range(1,6):\n",
    "    try:\n",
    "        url_page = f'{url}?page={page_num}'\n",
    "        response = requests.get(url_page, headers=headers)\n",
    "        repos_list.append(response.json())\n",
    "    except:\n",
    "        repos_list.append('none')"
   ]
  },
  {
   "cell_type": "code",
   "execution_count": null,
   "metadata": {},
   "outputs": [],
   "source": [
    "repos_list"
   ]
  },
  {
   "cell_type": "code",
   "execution_count": 480,
   "metadata": {},
   "outputs": [
    {
     "data": {
      "text/plain": [
       "5"
      ]
     },
     "execution_count": 480,
     "metadata": {},
     "output_type": "execute_result"
    }
   ],
   "source": [
    "len(repos_list)"
   ]
  },
  {
   "cell_type": "code",
   "execution_count": 481,
   "metadata": {},
   "outputs": [
    {
     "data": {
      "text/plain": [
       "30"
      ]
     },
     "execution_count": 481,
     "metadata": {},
     "output_type": "execute_result"
    }
   ],
   "source": [
    "len(repos_list[0])"
   ]
  },
  {
   "cell_type": "markdown",
   "metadata": {},
   "source": [
    "# Transformando os dados"
   ]
  },
  {
   "cell_type": "markdown",
   "metadata": {},
   "source": [
    "## Nomes dos repositórios"
   ]
  },
  {
   "cell_type": "code",
   "execution_count": null,
   "metadata": {},
   "outputs": [],
   "source": [
    "repos_list"
   ]
  },
  {
   "cell_type": "code",
   "execution_count": 483,
   "metadata": {},
   "outputs": [
    {
     "data": {
      "text/plain": [
       "'ads-pao-amznjs-gtm-template'"
      ]
     },
     "execution_count": 483,
     "metadata": {},
     "output_type": "execute_result"
    }
   ],
   "source": [
    "repos_list[0][2]['name']"
   ]
  },
  {
   "cell_type": "code",
   "execution_count": 484,
   "metadata": {},
   "outputs": [],
   "source": [
    "repos_name=[]\n",
    "for page in repos_list:\n",
    "    for repo in page:\n",
    "       repos_name.append(repo['name'])"
   ]
  },
  {
   "cell_type": "code",
   "execution_count": 485,
   "metadata": {},
   "outputs": [
    {
     "data": {
      "text/plain": [
       "['.github',\n",
       " 'ads-advanced-tools-docs',\n",
       " 'ads-pao-amznjs-gtm-template',\n",
       " 'alexa-coho',\n",
       " 'alexa-skills-kit-js',\n",
       " 'amazon-ads-advertiser-audience-normalization-sdk-py',\n",
       " 'amazon-advertising-api-php-sdk',\n",
       " 'amazon-codeguru-profiler-for-spark',\n",
       " 'amazon-frustration-free-setup-certification-tool',\n",
       " 'amazon-hub-counter-api-docs']"
      ]
     },
     "execution_count": 485,
     "metadata": {},
     "output_type": "execute_result"
    }
   ],
   "source": [
    "repos_name[:10]"
   ]
  },
  {
   "cell_type": "code",
   "execution_count": 486,
   "metadata": {},
   "outputs": [
    {
     "data": {
      "text/plain": [
       "150"
      ]
     },
     "execution_count": 486,
     "metadata": {},
     "output_type": "execute_result"
    }
   ],
   "source": [
    "len(repos_name)"
   ]
  },
  {
   "cell_type": "code",
   "execution_count": 487,
   "metadata": {},
   "outputs": [
    {
     "data": {
      "text/plain": [
       "list"
      ]
     },
     "execution_count": 487,
     "metadata": {},
     "output_type": "execute_result"
    }
   ],
   "source": [
    "type(repos_list)"
   ]
  },
  {
   "cell_type": "code",
   "execution_count": 488,
   "metadata": {},
   "outputs": [
    {
     "data": {
      "text/plain": [
       "list"
      ]
     },
     "execution_count": 488,
     "metadata": {},
     "output_type": "execute_result"
    }
   ],
   "source": [
    "type(repos_list[0])"
   ]
  },
  {
   "cell_type": "code",
   "execution_count": 489,
   "metadata": {},
   "outputs": [
    {
     "data": {
      "text/plain": [
       "dict"
      ]
     },
     "execution_count": 489,
     "metadata": {},
     "output_type": "execute_result"
    }
   ],
   "source": [
    "type(repos_list[0][0])"
   ]
  },
  {
   "cell_type": "markdown",
   "metadata": {},
   "source": [
    "[ # lista \n",
    "\n",
    "    [ # sublista \n",
    "        {repositorio_1}, # dicionários\n",
    "        {repositorio_2}\n",
    "    ],\n",
    "\n",
    "    [ # sublista\n",
    "        {repositorio_3}, # dicionarios\n",
    "        {repositorio_4}\n",
    "    ]\n",
    "\n",
    "]"
   ]
  },
  {
   "cell_type": "markdown",
   "metadata": {},
   "source": [
    "# Linguagens dos repositórios"
   ]
  },
  {
   "cell_type": "code",
   "execution_count": 490,
   "metadata": {},
   "outputs": [
    {
     "data": {
      "text/plain": [
       "'Ruby'"
      ]
     },
     "execution_count": 490,
     "metadata": {},
     "output_type": "execute_result"
    }
   ],
   "source": [
    "repos_list[1][1]['language']"
   ]
  },
  {
   "cell_type": "code",
   "execution_count": 491,
   "metadata": {},
   "outputs": [],
   "source": [
    "repos_language=[]\n",
    "for page in repos_list:\n",
    "    for repo in page:\n",
    "       repos_language.append(repo['language'])"
   ]
  },
  {
   "cell_type": "code",
   "execution_count": 492,
   "metadata": {},
   "outputs": [
    {
     "data": {
      "text/plain": [
       "150"
      ]
     },
     "execution_count": 492,
     "metadata": {},
     "output_type": "execute_result"
    }
   ],
   "source": [
    "len(repos_language)"
   ]
  },
  {
   "cell_type": "code",
   "execution_count": 493,
   "metadata": {},
   "outputs": [
    {
     "data": {
      "text/plain": [
       "[None,\n",
       " 'Jupyter Notebook',\n",
       " 'Smarty',\n",
       " 'JavaScript',\n",
       " None,\n",
       " 'Python',\n",
       " 'PHP',\n",
       " 'Java',\n",
       " 'Python',\n",
       " 'CSS']"
      ]
     },
     "execution_count": 493,
     "metadata": {},
     "output_type": "execute_result"
    }
   ],
   "source": [
    "repos_language[:10]"
   ]
  },
  {
   "cell_type": "markdown",
   "metadata": {},
   "source": [
    "# Criando um DataFrame"
   ]
  },
  {
   "cell_type": "markdown",
   "metadata": {},
   "source": [
    "* Nessa aula, você aprendeu a:\n",
    "Percorrer listas e dicionários;\n",
    "Manipular e estruturar dados no formato JSON;\n",
    "Utilizar a biblioteca Pandas para criar DataFrames;\n",
    "Transformar dados utilizando recursos da biblioteca Pandas;\n",
    "Salvar dados no formato CSV utilizando o método to_csv."
   ]
  },
  {
   "cell_type": "code",
   "execution_count": 494,
   "metadata": {},
   "outputs": [],
   "source": [
    "import pandas as pd"
   ]
  },
  {
   "cell_type": "code",
   "execution_count": 495,
   "metadata": {},
   "outputs": [],
   "source": [
    "dados_amz = pd.DataFrame()\n",
    "dados_amz['repository_name'] = repos_name\n",
    "dados_amz['language'] = repos_language"
   ]
  },
  {
   "cell_type": "code",
   "execution_count": 496,
   "metadata": {},
   "outputs": [
    {
     "data": {
      "text/html": [
       "<div>\n",
       "<style scoped>\n",
       "    .dataframe tbody tr th:only-of-type {\n",
       "        vertical-align: middle;\n",
       "    }\n",
       "\n",
       "    .dataframe tbody tr th {\n",
       "        vertical-align: top;\n",
       "    }\n",
       "\n",
       "    .dataframe thead th {\n",
       "        text-align: right;\n",
       "    }\n",
       "</style>\n",
       "<table border=\"1\" class=\"dataframe\">\n",
       "  <thead>\n",
       "    <tr style=\"text-align: right;\">\n",
       "      <th></th>\n",
       "      <th>repository_name</th>\n",
       "      <th>language</th>\n",
       "    </tr>\n",
       "  </thead>\n",
       "  <tbody>\n",
       "    <tr>\n",
       "      <th>0</th>\n",
       "      <td>.github</td>\n",
       "      <td>None</td>\n",
       "    </tr>\n",
       "    <tr>\n",
       "      <th>1</th>\n",
       "      <td>ads-advanced-tools-docs</td>\n",
       "      <td>Jupyter Notebook</td>\n",
       "    </tr>\n",
       "    <tr>\n",
       "      <th>2</th>\n",
       "      <td>ads-pao-amznjs-gtm-template</td>\n",
       "      <td>Smarty</td>\n",
       "    </tr>\n",
       "    <tr>\n",
       "      <th>3</th>\n",
       "      <td>alexa-coho</td>\n",
       "      <td>JavaScript</td>\n",
       "    </tr>\n",
       "    <tr>\n",
       "      <th>4</th>\n",
       "      <td>alexa-skills-kit-js</td>\n",
       "      <td>None</td>\n",
       "    </tr>\n",
       "    <tr>\n",
       "      <th>...</th>\n",
       "      <td>...</td>\n",
       "      <td>...</td>\n",
       "    </tr>\n",
       "    <tr>\n",
       "      <th>145</th>\n",
       "      <td>style-dictionary</td>\n",
       "      <td>JavaScript</td>\n",
       "    </tr>\n",
       "    <tr>\n",
       "      <th>146</th>\n",
       "      <td>supply-chain-simulation-environment</td>\n",
       "      <td>Python</td>\n",
       "    </tr>\n",
       "    <tr>\n",
       "      <th>147</th>\n",
       "      <td>tiny-attribution-generator</td>\n",
       "      <td>TypeScript</td>\n",
       "    </tr>\n",
       "    <tr>\n",
       "      <th>148</th>\n",
       "      <td>trans-encoder</td>\n",
       "      <td>Python</td>\n",
       "    </tr>\n",
       "    <tr>\n",
       "      <th>149</th>\n",
       "      <td>user-satisfaction-modeling</td>\n",
       "      <td>Python</td>\n",
       "    </tr>\n",
       "  </tbody>\n",
       "</table>\n",
       "<p>150 rows × 2 columns</p>\n",
       "</div>"
      ],
      "text/plain": [
       "                         repository_name          language\n",
       "0                                .github              None\n",
       "1                ads-advanced-tools-docs  Jupyter Notebook\n",
       "2            ads-pao-amznjs-gtm-template            Smarty\n",
       "3                             alexa-coho        JavaScript\n",
       "4                    alexa-skills-kit-js              None\n",
       "..                                   ...               ...\n",
       "145                     style-dictionary        JavaScript\n",
       "146  supply-chain-simulation-environment            Python\n",
       "147           tiny-attribution-generator        TypeScript\n",
       "148                        trans-encoder            Python\n",
       "149           user-satisfaction-modeling            Python\n",
       "\n",
       "[150 rows x 2 columns]"
      ]
     },
     "execution_count": 496,
     "metadata": {},
     "output_type": "execute_result"
    }
   ],
   "source": [
    "dados_amz"
   ]
  },
  {
   "cell_type": "markdown",
   "metadata": {},
   "source": [
    "* salvando o DataFrame"
   ]
  },
  {
   "cell_type": "code",
   "execution_count": 497,
   "metadata": {},
   "outputs": [],
   "source": [
    "dados_amz.to_csv('amazon.csv')"
   ]
  },
  {
   "cell_type": "markdown",
   "metadata": {},
   "source": [
    "# Criando repositório com POST\n"
   ]
  },
  {
   "cell_type": "markdown",
   "metadata": {},
   "source": [
    "* Nessa aula, você aprendeu a:\n",
    "Executar requisições do tipo POST;\n",
    "Criar repositórios utilizando a biblioteca Requests;\n",
    "Codificar arquivos em base64;\n",
    "Realizar requisições do tipo PUT;\n",
    "Fazer upload de arquivo em repositórios do GitHub utilizando a biblioteca requests.\n"
   ]
  },
  {
   "cell_type": "code",
   "execution_count": 498,
   "metadata": {},
   "outputs": [],
   "source": [
    "access_token ='seu token'\n",
    "headers = {'Authorization':'Bearer ' + access_token,\n",
    "            \"X-GitHub-Api-Version\":\"2022-11-28\" }"
   ]
  },
  {
   "cell_type": "code",
   "execution_count": 499,
   "metadata": {},
   "outputs": [
    {
     "data": {
      "text/plain": [
       "'https://api.github.com/user/repos'"
      ]
     },
     "execution_count": 499,
     "metadata": {},
     "output_type": "execute_result"
    }
   ],
   "source": [
    "api_base_url = 'https://api.github.com'\n",
    "url = f'{api_base_url}/user/repos'\n",
    "url"
   ]
  },
  {
   "cell_type": "code",
   "execution_count": 500,
   "metadata": {},
   "outputs": [
    {
     "data": {
      "text/plain": [
       "422"
      ]
     },
     "execution_count": 500,
     "metadata": {},
     "output_type": "execute_result"
    }
   ],
   "source": [
    "data = {\n",
    "    'name': 'linguagens-utilizadas',\n",
    "    'description': 'Repositorio com as linguagens de prog da amazon',\n",
    "    'private': False\n",
    "}\n",
    "\n",
    "response = requests.post(url, json=data, headers= headers)\n",
    "response.status_code"
   ]
  },
  {
   "cell_type": "markdown",
   "metadata": {},
   "source": [
    "* Formato do arquivo\n"
   ]
  },
  {
   "cell_type": "code",
   "execution_count": 501,
   "metadata": {},
   "outputs": [],
   "source": [
    "import base64"
   ]
  },
  {
   "cell_type": "code",
   "execution_count": 502,
   "metadata": {},
   "outputs": [],
   "source": [
    "with open('amazon.csv', 'rb') as file: #rb leitura em binário\n",
    "    file_content = file.read()\n",
    "\n",
    "encoded_content = base64.b64encode(file_content)"
   ]
  },
  {
   "cell_type": "markdown",
   "metadata": {},
   "source": [
    "# Upload de arquivo com PUT"
   ]
  },
  {
   "cell_type": "code",
   "execution_count": 503,
   "metadata": {},
   "outputs": [
    {
     "data": {
      "text/plain": [
       "'https://api.github.com/repos/DeniseYuki/linguagens-utilizadas/contents/amazon.csv'"
      ]
     },
     "execution_count": 503,
     "metadata": {},
     "output_type": "execute_result"
    }
   ],
   "source": [
    "api_base_url = 'https://api.github.com'\n",
    "username = 'DeniseYuki'\n",
    "repo = 'linguagens-utilizadas'\n",
    "path = 'amazon.csv'\n",
    "\n",
    "url= f'{api_base_url}/repos/{username}/{repo}/contents/{path}'\n",
    "url"
   ]
  },
  {
   "cell_type": "code",
   "execution_count": 504,
   "metadata": {},
   "outputs": [
    {
     "data": {
      "text/plain": [
       "422"
      ]
     },
     "execution_count": 504,
     "metadata": {},
     "output_type": "execute_result"
    }
   ],
   "source": [
    "data = {\n",
    "    'message': 'Adicionando um novo arquivo',\n",
    "    'content': encoded_content.decode('utf-8')\n",
    "}\n",
    "\n",
    "response = requests.put(url, json = data, headers= headers)\n",
    "response.status_code"
   ]
  },
  {
   "cell_type": "markdown",
   "metadata": {},
   "source": [
    "# 11 Desafio"
   ]
  },
  {
   "cell_type": "code",
   "execution_count": 505,
   "metadata": {},
   "outputs": [],
   "source": [
    "import requests\n",
    "\n",
    "username = 'amzn'\n",
    "url = f\"https://api.github.com/users/{username}/followers\"\n",
    "\n",
    "response = requests.get(url, headers=headers)\n",
    "followers = response.json()"
   ]
  },
  {
   "cell_type": "code",
   "execution_count": 506,
   "metadata": {},
   "outputs": [
    {
     "data": {
      "text/plain": [
       "30"
      ]
     },
     "execution_count": 506,
     "metadata": {},
     "output_type": "execute_result"
    }
   ],
   "source": [
    "len(followers)"
   ]
  },
  {
   "cell_type": "markdown",
   "metadata": {},
   "source": [
    "## Desafio"
   ]
  },
  {
   "cell_type": "code",
   "execution_count": 507,
   "metadata": {},
   "outputs": [
    {
     "data": {
      "text/plain": [
       "<Response [200]>"
      ]
     },
     "execution_count": 507,
     "metadata": {},
     "output_type": "execute_result"
    }
   ],
   "source": [
    "d = requests.get('https://api.github.com/users/DeniseYuki')\n",
    "d"
   ]
  },
  {
   "cell_type": "markdown",
   "metadata": {},
   "source": [
    "* 1 - Nome\n"
   ]
  },
  {
   "cell_type": "code",
   "execution_count": 508,
   "metadata": {},
   "outputs": [
    {
     "data": {
      "text/plain": [
       "'Denise Yuki'"
      ]
     },
     "execution_count": 508,
     "metadata": {},
     "output_type": "execute_result"
    }
   ],
   "source": [
    "d.json()['name']\n"
   ]
  },
  {
   "cell_type": "markdown",
   "metadata": {},
   "source": [
    "* 2 - Nome de usuário\n",
    "\n"
   ]
  },
  {
   "cell_type": "code",
   "execution_count": 509,
   "metadata": {},
   "outputs": [
    {
     "data": {
      "text/plain": [
       "'DeniseYuki'"
      ]
     },
     "execution_count": 509,
     "metadata": {},
     "output_type": "execute_result"
    }
   ],
   "source": [
    "d.json()['login']"
   ]
  },
  {
   "cell_type": "markdown",
   "metadata": {},
   "source": [
    "* 3 - Número de repositórios públicos\n"
   ]
  },
  {
   "cell_type": "code",
   "execution_count": 510,
   "metadata": {},
   "outputs": [
    {
     "data": {
      "text/plain": [
       "46"
      ]
     },
     "execution_count": 510,
     "metadata": {},
     "output_type": "execute_result"
    }
   ],
   "source": [
    "d.json()['public_repos']\n"
   ]
  },
  {
   "cell_type": "markdown",
   "metadata": {},
   "source": [
    "* 4 - Data de criação da conta no GitHub\n"
   ]
  },
  {
   "cell_type": "code",
   "execution_count": 511,
   "metadata": {},
   "outputs": [
    {
     "data": {
      "text/plain": [
       "'2019-04-14T21:22:10Z'"
      ]
     },
     "execution_count": 511,
     "metadata": {},
     "output_type": "execute_result"
    }
   ],
   "source": [
    "d.json()['created_at']"
   ]
  },
  {
   "cell_type": "markdown",
   "metadata": {},
   "source": []
  }
 ],
 "metadata": {
  "kernelspec": {
   "display_name": "venv",
   "language": "python",
   "name": "python3"
  },
  "language_info": {
   "codemirror_mode": {
    "name": "ipython",
    "version": 3
   },
   "file_extension": ".py",
   "mimetype": "text/x-python",
   "name": "python",
   "nbconvert_exporter": "python",
   "pygments_lexer": "ipython3",
   "version": "3.10.12"
  }
 },
 "nbformat": 4,
 "nbformat_minor": 2
}
